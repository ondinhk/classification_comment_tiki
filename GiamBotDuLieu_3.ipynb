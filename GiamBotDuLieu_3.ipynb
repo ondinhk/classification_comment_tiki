{
  "cells": [
    {
      "cell_type": "code",
      "execution_count": 1,
      "metadata": {
        "colab": {
          "base_uri": "https://localhost:8080/"
        },
        "id": "frS3MrOrIPoN",
        "outputId": "b857705a-3d9b-413a-d2cb-4f07203b24ee"
      },
      "outputs": [],
      "source": [
        "import numpy as np\n",
        "import pandas as pd\n",
        "pd.set_option(\"max_colwidth\", 200)\n",
        "import matplotlib.pyplot as plt\n"
      ]
    },
    {
      "cell_type": "markdown",
      "metadata": {
        "id": "CQtPzIM9IPoP"
      },
      "source": [
        "# Load file"
      ]
    },
    {
      "cell_type": "code",
      "execution_count": 2,
      "metadata": {
        "id": "oz02RGR3IPoQ"
      },
      "outputs": [],
      "source": [
        "path_file = \"./data/non_stop_word(3).json\"\n",
        "df = pd.read_json(path_file)"
      ]
    },
    {
      "cell_type": "markdown",
      "metadata": {},
      "source": [
        "# Số lượng bình luận theo rate"
      ]
    },
    {
      "cell_type": "code",
      "execution_count": 3,
      "metadata": {},
      "outputs": [
        {
          "name": "stdout",
          "output_type": "stream",
          "text": [
            "1652191\n",
            "306361\n"
          ]
        }
      ],
      "source": [
        "print(len(df[df['rate']==0]))\n",
        "print(len(df[df['rate']==1]))"
      ]
    },
    {
      "cell_type": "markdown",
      "metadata": {},
      "source": [
        "# Lọc bình luận tích cực\n",
        "- Giảm bớt số lượng bình luận tích cực, bằng cách chỉ giữ lại nhừng bình luận có trên 15 từ trở lên"
      ]
    },
    {
      "cell_type": "code",
      "execution_count": 4,
      "metadata": {},
      "outputs": [
        {
          "data": {
            "text/html": [
              "<div>\n",
              "<style scoped>\n",
              "    .dataframe tbody tr th:only-of-type {\n",
              "        vertical-align: middle;\n",
              "    }\n",
              "\n",
              "    .dataframe tbody tr th {\n",
              "        vertical-align: top;\n",
              "    }\n",
              "\n",
              "    .dataframe thead th {\n",
              "        text-align: right;\n",
              "    }\n",
              "</style>\n",
              "<table border=\"1\" class=\"dataframe\">\n",
              "  <thead>\n",
              "    <tr style=\"text-align: right;\">\n",
              "      <th></th>\n",
              "      <th>content</th>\n",
              "      <th>rate</th>\n",
              "    </tr>\n",
              "  </thead>\n",
              "  <tbody>\n",
              "    <tr>\n",
              "      <th>2</th>\n",
              "      <td>hàng chất_lượng giá rẻ hơn cửa_hàng nhưng bỉm có mùi hàng chất_lượng giá rẻ hơn cửa_hàng nhưng bỉm có mùi hàng chất_lượng giá rẻ hơn cửa_hàng nhưng bỉm có mùi</td>\n",
              "      <td>0</td>\n",
              "    </tr>\n",
              "    <tr>\n",
              "      <th>8</th>\n",
              "      <td>bịch lớn nên dùng rất tiện không phải mua nhiều lần hầu_hết các cửa_hàng_không bán bịch to nên mình thường mua trên tikinăm mới tiki giao hàng chậm hơn năm cũthông thường mình mua hàng chỉ 2 ngày</td>\n",
              "      <td>0</td>\n",
              "    </tr>\n",
              "    <tr>\n",
              "      <th>9</th>\n",
              "      <td>mới đặt_hàng chiều muộn hôm trước sáng sớm hôm sau đã nhận được hàng quá nhanh quá bất_ngờ bỉm mềm_mỏng nhẹ sờ thích do còn bỉm cũ nên chưa sử_dụng chưa biết thế_nào nhưng trước_mắt thì tốt cám_ơn...</td>\n",
              "      <td>0</td>\n",
              "    </tr>\n",
              "    <tr>\n",
              "      <th>10</th>\n",
              "      <td>lâu không dùng bobby ( trc trung_thành với bobby 4 năm ) giờ quay lại dùng thấy bỉm mỏng nhg độ thấm hút không còn tốt nữa ngủ hay bị tràn hầu_như lần nào cũg tràn hơi thất_vọng ( hình_ảnh không l...</td>\n",
              "      <td>0</td>\n",
              "    </tr>\n",
              "    <tr>\n",
              "      <th>12</th>\n",
              "      <td>bỉm dùng tốt tuy_nhiên lớp chống tràn rất cứng mặc có vết lằn cho bé mỏng thấm hút nhanh hợp với giá tiền nên chọn hơn size cho bé thì mặc mới thoải_mái được</td>\n",
              "      <td>0</td>\n",
              "    </tr>\n",
              "    <tr>\n",
              "      <th>...</th>\n",
              "      <td>...</td>\n",
              "      <td>...</td>\n",
              "    </tr>\n",
              "    <tr>\n",
              "      <th>1958542</th>\n",
              "      <td>tốt</td>\n",
              "      <td>0</td>\n",
              "    </tr>\n",
              "    <tr>\n",
              "      <th>1958543</th>\n",
              "      <td>tôt</td>\n",
              "      <td>0</td>\n",
              "    </tr>\n",
              "    <tr>\n",
              "      <th>1958544</th>\n",
              "      <td>tốt</td>\n",
              "      <td>0</td>\n",
              "    </tr>\n",
              "    <tr>\n",
              "      <th>1958545</th>\n",
              "      <td>tốt</td>\n",
              "      <td>0</td>\n",
              "    </tr>\n",
              "    <tr>\n",
              "      <th>1958546</th>\n",
              "      <td>net</td>\n",
              "      <td>0</td>\n",
              "    </tr>\n",
              "  </tbody>\n",
              "</table>\n",
              "<p>1652191 rows × 2 columns</p>\n",
              "</div>"
            ],
            "text/plain": [
              "                                                                                                                                                                                                         content  \\\n",
              "2                                                 hàng chất_lượng giá rẻ hơn cửa_hàng nhưng bỉm có mùi hàng chất_lượng giá rẻ hơn cửa_hàng nhưng bỉm có mùi hàng chất_lượng giá rẻ hơn cửa_hàng nhưng bỉm có mùi   \n",
              "8            bịch lớn nên dùng rất tiện không phải mua nhiều lần hầu_hết các cửa_hàng_không bán bịch to nên mình thường mua trên tikinăm mới tiki giao hàng chậm hơn năm cũthông thường mình mua hàng chỉ 2 ngày   \n",
              "9        mới đặt_hàng chiều muộn hôm trước sáng sớm hôm sau đã nhận được hàng quá nhanh quá bất_ngờ bỉm mềm_mỏng nhẹ sờ thích do còn bỉm cũ nên chưa sử_dụng chưa biết thế_nào nhưng trước_mắt thì tốt cám_ơn...   \n",
              "10       lâu không dùng bobby ( trc trung_thành với bobby 4 năm ) giờ quay lại dùng thấy bỉm mỏng nhg độ thấm hút không còn tốt nữa ngủ hay bị tràn hầu_như lần nào cũg tràn hơi thất_vọng ( hình_ảnh không l...   \n",
              "12                                                 bỉm dùng tốt tuy_nhiên lớp chống tràn rất cứng mặc có vết lằn cho bé mỏng thấm hút nhanh hợp với giá tiền nên chọn hơn size cho bé thì mặc mới thoải_mái được   \n",
              "...                                                                                                                                                                                                          ...   \n",
              "1958542                                                                                                                                                                                                      tốt   \n",
              "1958543                                                                                                                                                                                                      tôt   \n",
              "1958544                                                                                                                                                                                                      tốt   \n",
              "1958545                                                                                                                                                                                                      tốt   \n",
              "1958546                                                                                                                                                                                                      net   \n",
              "\n",
              "         rate  \n",
              "2           0  \n",
              "8           0  \n",
              "9           0  \n",
              "10          0  \n",
              "12          0  \n",
              "...       ...  \n",
              "1958542     0  \n",
              "1958543     0  \n",
              "1958544     0  \n",
              "1958545     0  \n",
              "1958546     0  \n",
              "\n",
              "[1652191 rows x 2 columns]"
            ]
          },
          "execution_count": 4,
          "metadata": {},
          "output_type": "execute_result"
        }
      ],
      "source": [
        "df_good = df[df['rate']==0]\n",
        "df_good"
      ]
    },
    {
      "cell_type": "code",
      "execution_count": 5,
      "metadata": {},
      "outputs": [
        {
          "data": {
            "text/plain": [
              "<BarContainer object of 19 artists>"
            ]
          },
          "execution_count": 5,
          "metadata": {},
          "output_type": "execute_result"
        },
        {
          "data": {
            "image/png": "[encoded data removed]",
            "text/plain": [
              "<Figure size 720x720 with 1 Axes>"
            ]
          },
          "metadata": {
            "needs_background": "light"
          },
          "output_type": "display_data"
        }
      ],
      "source": [
        "count = df_good['content'].str.split().apply(len).value_counts()\n",
        "df_count = pd.DataFrame(count)\n",
        "fig = plt.figure(figsize = (10, 10))\n",
        "# x is index 20 word first\n",
        "x = 20\n",
        "labels =  np.arange(1,x)\n",
        "value = df_count['content']\n",
        "plt.bar(labels, df_count['content'][1:x], color ='maroon')\n",
        "# labels"
      ]
    },
    {
      "cell_type": "code",
      "execution_count": 6,
      "metadata": {},
      "outputs": [
        {
          "name": "stderr",
          "output_type": "stream",
          "text": [
            "C:\\Users\\OnKhang\\AppData\\Local\\Temp\\ipykernel_9436\\345787970.py:10: SettingWithCopyWarning: \n",
            "A value is trying to be set on a copy of a slice from a DataFrame.\n",
            "Try using .loc[row_indexer,col_indexer] = value instead\n",
            "\n",
            "See the caveats in the documentation: https://pandas.pydata.org/pandas-docs/stable/user_guide/indexing.html#returning-a-view-versus-a-copy\n",
            "  df_good['content'] = df_good['content'].apply(lambda x: x.replace(\n"
          ]
        }
      ],
      "source": [
        "df_good = df[df['rate']==0]\n",
        "def zero(text):\n",
        "    arr = text.split()\n",
        "    if len(arr) >= 15:\n",
        "        return text\n",
        "    else:\n",
        "        return str('non')\n",
        "\n",
        "    \n",
        "df_good['content'] = df_good['content'].apply(lambda x: x.replace(\n",
        "    str(x), zero(x)))"
      ]
    },
    {
      "cell_type": "markdown",
      "metadata": {},
      "source": [
        "#### Số bình luận ít hơn 15 từ"
      ]
    },
    {
      "cell_type": "code",
      "execution_count": 7,
      "metadata": {},
      "outputs": [
        {
          "data": {
            "text/plain": [
              "1261084"
            ]
          },
          "execution_count": 7,
          "metadata": {},
          "output_type": "execute_result"
        }
      ],
      "source": [
        "len(df_good[df_good['content']==\"non\"])"
      ]
    },
    {
      "cell_type": "markdown",
      "metadata": {},
      "source": [
        "#### Số bình luận còn lại sau khi lọc"
      ]
    },
    {
      "cell_type": "code",
      "execution_count": 8,
      "metadata": {},
      "outputs": [
        {
          "data": {
            "text/plain": [
              "391107"
            ]
          },
          "execution_count": 8,
          "metadata": {},
          "output_type": "execute_result"
        }
      ],
      "source": [
        "df_good_new = df_good[df_good['content'] != \"non\"]\n",
        "len(df_good_new)"
      ]
    },
    {
      "cell_type": "code",
      "execution_count": 9,
      "metadata": {},
      "outputs": [
        {
          "data": {
            "text/plain": [
              "1958423                                                                                                                          hình_ảnh rất tốt dễ sử_dụng cài_đặt dễ và cực nhanh luôn đã mua đến lần thứ 3 rồi\n",
              "1958426                                                                                                         tôi ấn nút nguồn có hiện nút xanh xong nó tắt luôn không hiện nút xanh nữa cửa_hàng xử_lý giúp tôi\n",
              "1958474    android mình cài nhiều ứng_dụng mà không được kể_cả ứng_dụng trong hướng_dẫn gửi kèm hơn nữa ứng_dụng trong hướng_dẫn là của trung_quốc và nó còn yêu_cầu quyền truy_cập đến vị_trí mới láo trong kh...\n",
              "1958477                                           khó lấy lắm ạ chỉ có_thể xem thôi ạma mỗi lần xem phải tải ứng_dụng nên hơi phiền_phức về chất_lượng hình_ảnh thì tốt nha thấy tới màng_nhĩ luôn hình_ảnh rõ nét\n",
              "1958478                                                     đường_kính đèn soi hơi lớn nên khi gắn thêm bộ lấy ráy_tai khó đưa vào tai một_cách dễ_dàng để soi thì tốt nhưng để lấy ráy_tai chỉ bên ngoài thì được\n",
              "1958480                                                  giả rẻ nhưng cũng công_nghệ ghê đầu kết_nối rất nhiều cổng cho người dùng sử_dụng tuy_nhiên cái ngoáy tai thì to không ngoáy được dùng để soi tai rất hay\n",
              "1958531       sản_phẩm rất tốt hàng chuẩn chính hàng chất_lượng điểm_ảnh 4 mp nhìn nét cực_âm_thanh ở tầm vừa_vừa không to như mấy cái máy_ảnh ngoài_trời nhưng giá này được chất lươgnj 40 thật là không_đâu bằng\n",
              "1958533                                                                                       sản_phẩm tốt tuy_nhiên tính_năng quay quét phát ra tiếng kêu cảm_giác không được chắc_chắn nhưng với tầm giá thì tốt\n",
              "1958534                                                                                   quá nét hình_ảnh xem rõ nét căng luôn nếu có điều_kiện chắc_chắn sẽ mua thêm máy_ảnh này nữa cửa_hàng hướng_dẫn tận_tình\n",
              "1958536                                                                                                               giao hàng nhanh sản_phẩm tốt chất_lượng cao cửa_hàng phục_vụ tốt tiki chế_độ mã giảm_giá tốt\n",
              "Name: content, dtype: object"
            ]
          },
          "execution_count": 9,
          "metadata": {},
          "output_type": "execute_result"
        }
      ],
      "source": [
        "df_good_new['content'].tail(10)"
      ]
    },
    {
      "cell_type": "markdown",
      "metadata": {},
      "source": [
        "# Lọc bình luận tiêu cực\n",
        "- Làm tương tự như bình luận tích cực"
      ]
    },
    {
      "cell_type": "code",
      "execution_count": 10,
      "metadata": {},
      "outputs": [
        {
          "data": {
            "text/html": [
              "<div>\n",
              "<style scoped>\n",
              "    .dataframe tbody tr th:only-of-type {\n",
              "        vertical-align: middle;\n",
              "    }\n",
              "\n",
              "    .dataframe tbody tr th {\n",
              "        vertical-align: top;\n",
              "    }\n",
              "\n",
              "    .dataframe thead th {\n",
              "        text-align: right;\n",
              "    }\n",
              "</style>\n",
              "<table border=\"1\" class=\"dataframe\">\n",
              "  <thead>\n",
              "    <tr style=\"text-align: right;\">\n",
              "      <th></th>\n",
              "      <th>content</th>\n",
              "      <th>rate</th>\n",
              "    </tr>\n",
              "  </thead>\n",
              "  <tbody>\n",
              "    <tr>\n",
              "      <th>0</th>\n",
              "      <td>mua bỉm đợt sale 1 tr600k cho 4 bịch bỉm thì bị chia thành 2 đơn do hết hàng đợi vận_chuyển dài cả cổ nhưng cái chính là lúc thêm vào giỏ hàng thấy được tặng xe bập_bênh nhưng 30 giây sau khi than...</td>\n",
              "      <td>1</td>\n",
              "    </tr>\n",
              "    <tr>\n",
              "      <th>1</th>\n",
              "      <td>quá tệ1 về giao hàng với chăm_sóc khách_hàng mình đồng_ý mùa dịch nên giao hàng có_thể chậm_trễ hơn so với bình_thường nhưng cách chậm_trễ và đặc_biệt dịch_vụ chăm_sóc khách_hàng quá tệ liên_hệ ph...</td>\n",
              "      <td>1</td>\n",
              "    </tr>\n",
              "    <tr>\n",
              "      <th>3</th>\n",
              "      <td>chất_lượng bỉm thì tốt mà bên giao hàng và bên hỗ_trợ từ số hotline quá chậm chễ mình đặt 2 bịch cho 2 đứa 1 size xxl 1 size l đến ngày hẹn giao hàng chờ cả ngày không thấy đến tối muộn có nhân_vi...</td>\n",
              "      <td>1</td>\n",
              "    </tr>\n",
              "    <tr>\n",
              "      <th>4</th>\n",
              "      <td>hàng giả mọi người ơi đừng mua vì cái tã này mỏng hơn cái tã mình mua trực_tiếp của bobby luôn mọi người cẩn_thận nhé 419 k không phải ít tiền vì_vậy đừng để mua nhầm như mình</td>\n",
              "      <td>1</td>\n",
              "    </tr>\n",
              "    <tr>\n",
              "      <th>5</th>\n",
              "      <td>nhận được hàng vui_lam nhưng có thắc_mắc xiu gia ghi là 816100 nhưng nhận vien giao lai thứ mình 825000 đ mình cũng không y kien gi vì tình hinh dịch_bệnh qua nhưng mình không thich kiểu thứ tien ...</td>\n",
              "      <td>1</td>\n",
              "    </tr>\n",
              "    <tr>\n",
              "      <th>...</th>\n",
              "      <td>...</td>\n",
              "      <td>...</td>\n",
              "    </tr>\n",
              "    <tr>\n",
              "      <th>1958547</th>\n",
              "      <td>liên_hệ với tôi nhé máy_bay không tìm thấy chỗ để sạc pin</td>\n",
              "      <td>1</td>\n",
              "    </tr>\n",
              "    <tr>\n",
              "      <th>1958548</th>\n",
              "      <td>cửa_hàng cái đầu này cắm tn đăng_ký</td>\n",
              "      <td>1</td>\n",
              "    </tr>\n",
              "    <tr>\n",
              "      <th>1958549</th>\n",
              "      <td>tại_sao giao mình lại thiếu_phụ_kiện máy_ảnh vậy cửa_hàng</td>\n",
              "      <td>1</td>\n",
              "    </tr>\n",
              "    <tr>\n",
              "      <th>1958550</th>\n",
              "      <td>không có hướng_dẫn tiếng việt</td>\n",
              "      <td>1</td>\n",
              "    </tr>\n",
              "    <tr>\n",
              "      <th>1958551</th>\n",
              "      <td>giá đắt sô với thị_trường</td>\n",
              "      <td>1</td>\n",
              "    </tr>\n",
              "  </tbody>\n",
              "</table>\n",
              "<p>306361 rows × 2 columns</p>\n",
              "</div>"
            ],
            "text/plain": [
              "                                                                                                                                                                                                         content  \\\n",
              "0        mua bỉm đợt sale 1 tr600k cho 4 bịch bỉm thì bị chia thành 2 đơn do hết hàng đợi vận_chuyển dài cả cổ nhưng cái chính là lúc thêm vào giỏ hàng thấy được tặng xe bập_bênh nhưng 30 giây sau khi than...   \n",
              "1        quá tệ1 về giao hàng với chăm_sóc khách_hàng mình đồng_ý mùa dịch nên giao hàng có_thể chậm_trễ hơn so với bình_thường nhưng cách chậm_trễ và đặc_biệt dịch_vụ chăm_sóc khách_hàng quá tệ liên_hệ ph...   \n",
              "3        chất_lượng bỉm thì tốt mà bên giao hàng và bên hỗ_trợ từ số hotline quá chậm chễ mình đặt 2 bịch cho 2 đứa 1 size xxl 1 size l đến ngày hẹn giao hàng chờ cả ngày không thấy đến tối muộn có nhân_vi...   \n",
              "4                                hàng giả mọi người ơi đừng mua vì cái tã này mỏng hơn cái tã mình mua trực_tiếp của bobby luôn mọi người cẩn_thận nhé 419 k không phải ít tiền vì_vậy đừng để mua nhầm như mình   \n",
              "5        nhận được hàng vui_lam nhưng có thắc_mắc xiu gia ghi là 816100 nhưng nhận vien giao lai thứ mình 825000 đ mình cũng không y kien gi vì tình hinh dịch_bệnh qua nhưng mình không thich kiểu thứ tien ...   \n",
              "...                                                                                                                                                                                                          ...   \n",
              "1958547                                                                                                                                                liên_hệ với tôi nhé máy_bay không tìm thấy chỗ để sạc pin   \n",
              "1958548                                                                                                                                                                      cửa_hàng cái đầu này cắm tn đăng_ký   \n",
              "1958549                                                                                                                                                tại_sao giao mình lại thiếu_phụ_kiện máy_ảnh vậy cửa_hàng   \n",
              "1958550                                                                                                                                                                            không có hướng_dẫn tiếng việt   \n",
              "1958551                                                                                                                                                                                giá đắt sô với thị_trường   \n",
              "\n",
              "         rate  \n",
              "0           1  \n",
              "1           1  \n",
              "3           1  \n",
              "4           1  \n",
              "5           1  \n",
              "...       ...  \n",
              "1958547     1  \n",
              "1958548     1  \n",
              "1958549     1  \n",
              "1958550     1  \n",
              "1958551     1  \n",
              "\n",
              "[306361 rows x 2 columns]"
            ]
          },
          "execution_count": 10,
          "metadata": {},
          "output_type": "execute_result"
        }
      ],
      "source": [
        "df_bad = df[df['rate']==1]\n",
        "df_bad"
      ]
    },
    {
      "cell_type": "code",
      "execution_count": 11,
      "metadata": {},
      "outputs": [
        {
          "data": {
            "text/plain": [
              "<BarContainer object of 19 artists>"
            ]
          },
          "execution_count": 11,
          "metadata": {},
          "output_type": "execute_result"
        },
        {
          "data": {
            "image/png": "[encoded data removed]",
            "text/plain": [
              "<Figure size 720x720 with 1 Axes>"
            ]
          },
          "metadata": {
            "needs_background": "light"
          },
          "output_type": "display_data"
        }
      ],
      "source": [
        "count = df_bad['content'].str.split().apply(len).value_counts()\n",
        "df_count = pd.DataFrame(count)\n",
        "fig = plt.figure(figsize = (10, 10))\n",
        "# x is index 20 word first\n",
        "x = 20\n",
        "labels =  np.arange(1,x)\n",
        "value = df_count['content']\n",
        "plt.bar(labels, df_count['content'][1:x], color ='maroon')\n",
        "# labels"
      ]
    },
    {
      "cell_type": "code",
      "execution_count": 12,
      "metadata": {},
      "outputs": [
        {
          "name": "stderr",
          "output_type": "stream",
          "text": [
            "C:\\Users\\OnKhang\\AppData\\Local\\Temp\\ipykernel_9436\\3159359599.py:10: SettingWithCopyWarning: \n",
            "A value is trying to be set on a copy of a slice from a DataFrame.\n",
            "Try using .loc[row_indexer,col_indexer] = value instead\n",
            "\n",
            "See the caveats in the documentation: https://pandas.pydata.org/pandas-docs/stable/user_guide/indexing.html#returning-a-view-versus-a-copy\n",
            "  df_bad['content'] = df_bad['content'].apply(lambda x: x.replace(\n"
          ]
        }
      ],
      "source": [
        "df_bad = df[df['rate']==1]\n",
        "def zero(text):\n",
        "    arr = text.split()\n",
        "    if len(arr) >= 15:\n",
        "        return text\n",
        "    else:\n",
        "        return str('non')\n",
        "\n",
        "    \n",
        "df_bad['content'] = df_bad['content'].apply(lambda x: x.replace(\n",
        "    str(x), zero(x)))"
      ]
    },
    {
      "cell_type": "code",
      "execution_count": 13,
      "metadata": {},
      "outputs": [
        {
          "data": {
            "text/html": [
              "<div>\n",
              "<style scoped>\n",
              "    .dataframe tbody tr th:only-of-type {\n",
              "        vertical-align: middle;\n",
              "    }\n",
              "\n",
              "    .dataframe tbody tr th {\n",
              "        vertical-align: top;\n",
              "    }\n",
              "\n",
              "    .dataframe thead th {\n",
              "        text-align: right;\n",
              "    }\n",
              "</style>\n",
              "<table border=\"1\" class=\"dataframe\">\n",
              "  <thead>\n",
              "    <tr style=\"text-align: right;\">\n",
              "      <th></th>\n",
              "      <th>content</th>\n",
              "      <th>rate</th>\n",
              "    </tr>\n",
              "  </thead>\n",
              "  <tbody>\n",
              "    <tr>\n",
              "      <th>0</th>\n",
              "      <td>mua bỉm đợt sale 1 tr600k cho 4 bịch bỉm thì bị chia thành 2 đơn do hết hàng đợi vận_chuyển dài cả cổ nhưng cái chính là lúc thêm vào giỏ hàng thấy được tặng xe bập_bênh nhưng 30 giây sau khi than...</td>\n",
              "      <td>1</td>\n",
              "    </tr>\n",
              "    <tr>\n",
              "      <th>1</th>\n",
              "      <td>quá tệ1 về giao hàng với chăm_sóc khách_hàng mình đồng_ý mùa dịch nên giao hàng có_thể chậm_trễ hơn so với bình_thường nhưng cách chậm_trễ và đặc_biệt dịch_vụ chăm_sóc khách_hàng quá tệ liên_hệ ph...</td>\n",
              "      <td>1</td>\n",
              "    </tr>\n",
              "    <tr>\n",
              "      <th>3</th>\n",
              "      <td>chất_lượng bỉm thì tốt mà bên giao hàng và bên hỗ_trợ từ số hotline quá chậm chễ mình đặt 2 bịch cho 2 đứa 1 size xxl 1 size l đến ngày hẹn giao hàng chờ cả ngày không thấy đến tối muộn có nhân_vi...</td>\n",
              "      <td>1</td>\n",
              "    </tr>\n",
              "    <tr>\n",
              "      <th>4</th>\n",
              "      <td>hàng giả mọi người ơi đừng mua vì cái tã này mỏng hơn cái tã mình mua trực_tiếp của bobby luôn mọi người cẩn_thận nhé 419 k không phải ít tiền vì_vậy đừng để mua nhầm như mình</td>\n",
              "      <td>1</td>\n",
              "    </tr>\n",
              "    <tr>\n",
              "      <th>5</th>\n",
              "      <td>nhận được hàng vui_lam nhưng có thắc_mắc xiu gia ghi là 816100 nhưng nhận vien giao lai thứ mình 825000 đ mình cũng không y kien gi vì tình hinh dịch_bệnh qua nhưng mình không thich kiểu thứ tien ...</td>\n",
              "      <td>1</td>\n",
              "    </tr>\n",
              "    <tr>\n",
              "      <th>...</th>\n",
              "      <td>...</td>\n",
              "      <td>...</td>\n",
              "    </tr>\n",
              "    <tr>\n",
              "      <th>1958547</th>\n",
              "      <td>non</td>\n",
              "      <td>1</td>\n",
              "    </tr>\n",
              "    <tr>\n",
              "      <th>1958548</th>\n",
              "      <td>non</td>\n",
              "      <td>1</td>\n",
              "    </tr>\n",
              "    <tr>\n",
              "      <th>1958549</th>\n",
              "      <td>non</td>\n",
              "      <td>1</td>\n",
              "    </tr>\n",
              "    <tr>\n",
              "      <th>1958550</th>\n",
              "      <td>non</td>\n",
              "      <td>1</td>\n",
              "    </tr>\n",
              "    <tr>\n",
              "      <th>1958551</th>\n",
              "      <td>non</td>\n",
              "      <td>1</td>\n",
              "    </tr>\n",
              "  </tbody>\n",
              "</table>\n",
              "<p>306361 rows × 2 columns</p>\n",
              "</div>"
            ],
            "text/plain": [
              "                                                                                                                                                                                                         content  \\\n",
              "0        mua bỉm đợt sale 1 tr600k cho 4 bịch bỉm thì bị chia thành 2 đơn do hết hàng đợi vận_chuyển dài cả cổ nhưng cái chính là lúc thêm vào giỏ hàng thấy được tặng xe bập_bênh nhưng 30 giây sau khi than...   \n",
              "1        quá tệ1 về giao hàng với chăm_sóc khách_hàng mình đồng_ý mùa dịch nên giao hàng có_thể chậm_trễ hơn so với bình_thường nhưng cách chậm_trễ và đặc_biệt dịch_vụ chăm_sóc khách_hàng quá tệ liên_hệ ph...   \n",
              "3        chất_lượng bỉm thì tốt mà bên giao hàng và bên hỗ_trợ từ số hotline quá chậm chễ mình đặt 2 bịch cho 2 đứa 1 size xxl 1 size l đến ngày hẹn giao hàng chờ cả ngày không thấy đến tối muộn có nhân_vi...   \n",
              "4                                hàng giả mọi người ơi đừng mua vì cái tã này mỏng hơn cái tã mình mua trực_tiếp của bobby luôn mọi người cẩn_thận nhé 419 k không phải ít tiền vì_vậy đừng để mua nhầm như mình   \n",
              "5        nhận được hàng vui_lam nhưng có thắc_mắc xiu gia ghi là 816100 nhưng nhận vien giao lai thứ mình 825000 đ mình cũng không y kien gi vì tình hinh dịch_bệnh qua nhưng mình không thich kiểu thứ tien ...   \n",
              "...                                                                                                                                                                                                          ...   \n",
              "1958547                                                                                                                                                                                                      non   \n",
              "1958548                                                                                                                                                                                                      non   \n",
              "1958549                                                                                                                                                                                                      non   \n",
              "1958550                                                                                                                                                                                                      non   \n",
              "1958551                                                                                                                                                                                                      non   \n",
              "\n",
              "         rate  \n",
              "0           1  \n",
              "1           1  \n",
              "3           1  \n",
              "4           1  \n",
              "5           1  \n",
              "...       ...  \n",
              "1958547     1  \n",
              "1958548     1  \n",
              "1958549     1  \n",
              "1958550     1  \n",
              "1958551     1  \n",
              "\n",
              "[306361 rows x 2 columns]"
            ]
          },
          "execution_count": 13,
          "metadata": {},
          "output_type": "execute_result"
        }
      ],
      "source": [
        "df_bad"
      ]
    },
    {
      "cell_type": "code",
      "execution_count": 14,
      "metadata": {},
      "outputs": [
        {
          "name": "stdout",
          "output_type": "stream",
          "text": [
            "185521\n"
          ]
        }
      ],
      "source": [
        "print(len(df_bad[df_bad['content'] == \"non\"]))"
      ]
    },
    {
      "cell_type": "code",
      "execution_count": 15,
      "metadata": {},
      "outputs": [
        {
          "data": {
            "text/plain": [
              "306361"
            ]
          },
          "execution_count": 15,
          "metadata": {},
          "output_type": "execute_result"
        }
      ],
      "source": [
        "df_bad_new = df_bad[df_bad['content'] != \"non\"]\n",
        "len(df_bad)"
      ]
    },
    {
      "cell_type": "markdown",
      "metadata": {},
      "source": [
        "# Gộp 2 bảng lại"
      ]
    },
    {
      "cell_type": "code",
      "execution_count": 16,
      "metadata": {},
      "outputs": [
        {
          "data": {
            "text/html": [
              "<div>\n",
              "<style scoped>\n",
              "    .dataframe tbody tr th:only-of-type {\n",
              "        vertical-align: middle;\n",
              "    }\n",
              "\n",
              "    .dataframe tbody tr th {\n",
              "        vertical-align: top;\n",
              "    }\n",
              "\n",
              "    .dataframe thead th {\n",
              "        text-align: right;\n",
              "    }\n",
              "</style>\n",
              "<table border=\"1\" class=\"dataframe\">\n",
              "  <thead>\n",
              "    <tr style=\"text-align: right;\">\n",
              "      <th></th>\n",
              "      <th>content</th>\n",
              "      <th>rate</th>\n",
              "    </tr>\n",
              "  </thead>\n",
              "  <tbody>\n",
              "    <tr>\n",
              "      <th>2</th>\n",
              "      <td>hàng chất_lượng giá rẻ hơn cửa_hàng nhưng bỉm có mùi hàng chất_lượng giá rẻ hơn cửa_hàng nhưng bỉm có mùi hàng chất_lượng giá rẻ hơn cửa_hàng nhưng bỉm có mùi</td>\n",
              "      <td>0</td>\n",
              "    </tr>\n",
              "    <tr>\n",
              "      <th>8</th>\n",
              "      <td>bịch lớn nên dùng rất tiện không phải mua nhiều lần hầu_hết các cửa_hàng_không bán bịch to nên mình thường mua trên tikinăm mới tiki giao hàng chậm hơn năm cũthông thường mình mua hàng chỉ 2 ngày</td>\n",
              "      <td>0</td>\n",
              "    </tr>\n",
              "    <tr>\n",
              "      <th>9</th>\n",
              "      <td>mới đặt_hàng chiều muộn hôm trước sáng sớm hôm sau đã nhận được hàng quá nhanh quá bất_ngờ bỉm mềm_mỏng nhẹ sờ thích do còn bỉm cũ nên chưa sử_dụng chưa biết thế_nào nhưng trước_mắt thì tốt cám_ơn...</td>\n",
              "      <td>0</td>\n",
              "    </tr>\n",
              "    <tr>\n",
              "      <th>10</th>\n",
              "      <td>lâu không dùng bobby ( trc trung_thành với bobby 4 năm ) giờ quay lại dùng thấy bỉm mỏng nhg độ thấm hút không còn tốt nữa ngủ hay bị tràn hầu_như lần nào cũg tràn hơi thất_vọng ( hình_ảnh không l...</td>\n",
              "      <td>0</td>\n",
              "    </tr>\n",
              "    <tr>\n",
              "      <th>12</th>\n",
              "      <td>bỉm dùng tốt tuy_nhiên lớp chống tràn rất cứng mặc có vết lằn cho bé mỏng thấm hút nhanh hợp với giá tiền nên chọn hơn size cho bé thì mặc mới thoải_mái được</td>\n",
              "      <td>0</td>\n",
              "    </tr>\n",
              "    <tr>\n",
              "      <th>...</th>\n",
              "      <td>...</td>\n",
              "      <td>...</td>\n",
              "    </tr>\n",
              "    <tr>\n",
              "      <th>1958480</th>\n",
              "      <td>giả rẻ nhưng cũng công_nghệ ghê đầu kết_nối rất nhiều cổng cho người dùng sử_dụng tuy_nhiên cái ngoáy tai thì to không ngoáy được dùng để soi tai rất hay</td>\n",
              "      <td>0</td>\n",
              "    </tr>\n",
              "    <tr>\n",
              "      <th>1958531</th>\n",
              "      <td>sản_phẩm rất tốt hàng chuẩn chính hàng chất_lượng điểm_ảnh 4 mp nhìn nét cực_âm_thanh ở tầm vừa_vừa không to như mấy cái máy_ảnh ngoài_trời nhưng giá này được chất lươgnj 40 thật là không_đâu bằng</td>\n",
              "      <td>0</td>\n",
              "    </tr>\n",
              "    <tr>\n",
              "      <th>1958533</th>\n",
              "      <td>sản_phẩm tốt tuy_nhiên tính_năng quay quét phát ra tiếng kêu cảm_giác không được chắc_chắn nhưng với tầm giá thì tốt</td>\n",
              "      <td>0</td>\n",
              "    </tr>\n",
              "    <tr>\n",
              "      <th>1958534</th>\n",
              "      <td>quá nét hình_ảnh xem rõ nét căng luôn nếu có điều_kiện chắc_chắn sẽ mua thêm máy_ảnh này nữa cửa_hàng hướng_dẫn tận_tình</td>\n",
              "      <td>0</td>\n",
              "    </tr>\n",
              "    <tr>\n",
              "      <th>1958536</th>\n",
              "      <td>giao hàng nhanh sản_phẩm tốt chất_lượng cao cửa_hàng phục_vụ tốt tiki chế_độ mã giảm_giá tốt</td>\n",
              "      <td>0</td>\n",
              "    </tr>\n",
              "  </tbody>\n",
              "</table>\n",
              "<p>391107 rows × 2 columns</p>\n",
              "</div>"
            ],
            "text/plain": [
              "                                                                                                                                                                                                         content  \\\n",
              "2                                                 hàng chất_lượng giá rẻ hơn cửa_hàng nhưng bỉm có mùi hàng chất_lượng giá rẻ hơn cửa_hàng nhưng bỉm có mùi hàng chất_lượng giá rẻ hơn cửa_hàng nhưng bỉm có mùi   \n",
              "8            bịch lớn nên dùng rất tiện không phải mua nhiều lần hầu_hết các cửa_hàng_không bán bịch to nên mình thường mua trên tikinăm mới tiki giao hàng chậm hơn năm cũthông thường mình mua hàng chỉ 2 ngày   \n",
              "9        mới đặt_hàng chiều muộn hôm trước sáng sớm hôm sau đã nhận được hàng quá nhanh quá bất_ngờ bỉm mềm_mỏng nhẹ sờ thích do còn bỉm cũ nên chưa sử_dụng chưa biết thế_nào nhưng trước_mắt thì tốt cám_ơn...   \n",
              "10       lâu không dùng bobby ( trc trung_thành với bobby 4 năm ) giờ quay lại dùng thấy bỉm mỏng nhg độ thấm hút không còn tốt nữa ngủ hay bị tràn hầu_như lần nào cũg tràn hơi thất_vọng ( hình_ảnh không l...   \n",
              "12                                                 bỉm dùng tốt tuy_nhiên lớp chống tràn rất cứng mặc có vết lằn cho bé mỏng thấm hút nhanh hợp với giá tiền nên chọn hơn size cho bé thì mặc mới thoải_mái được   \n",
              "...                                                                                                                                                                                                          ...   \n",
              "1958480                                                giả rẻ nhưng cũng công_nghệ ghê đầu kết_nối rất nhiều cổng cho người dùng sử_dụng tuy_nhiên cái ngoáy tai thì to không ngoáy được dùng để soi tai rất hay   \n",
              "1958531     sản_phẩm rất tốt hàng chuẩn chính hàng chất_lượng điểm_ảnh 4 mp nhìn nét cực_âm_thanh ở tầm vừa_vừa không to như mấy cái máy_ảnh ngoài_trời nhưng giá này được chất lươgnj 40 thật là không_đâu bằng   \n",
              "1958533                                                                                     sản_phẩm tốt tuy_nhiên tính_năng quay quét phát ra tiếng kêu cảm_giác không được chắc_chắn nhưng với tầm giá thì tốt   \n",
              "1958534                                                                                 quá nét hình_ảnh xem rõ nét căng luôn nếu có điều_kiện chắc_chắn sẽ mua thêm máy_ảnh này nữa cửa_hàng hướng_dẫn tận_tình   \n",
              "1958536                                                                                                             giao hàng nhanh sản_phẩm tốt chất_lượng cao cửa_hàng phục_vụ tốt tiki chế_độ mã giảm_giá tốt   \n",
              "\n",
              "         rate  \n",
              "2           0  \n",
              "8           0  \n",
              "9           0  \n",
              "10          0  \n",
              "12          0  \n",
              "...       ...  \n",
              "1958480     0  \n",
              "1958531     0  \n",
              "1958533     0  \n",
              "1958534     0  \n",
              "1958536     0  \n",
              "\n",
              "[391107 rows x 2 columns]"
            ]
          },
          "execution_count": 16,
          "metadata": {},
          "output_type": "execute_result"
        }
      ],
      "source": [
        "df_good_new"
      ]
    },
    {
      "cell_type": "code",
      "execution_count": 17,
      "metadata": {},
      "outputs": [
        {
          "data": {
            "text/html": [
              "<div>\n",
              "<style scoped>\n",
              "    .dataframe tbody tr th:only-of-type {\n",
              "        vertical-align: middle;\n",
              "    }\n",
              "\n",
              "    .dataframe tbody tr th {\n",
              "        vertical-align: top;\n",
              "    }\n",
              "\n",
              "    .dataframe thead th {\n",
              "        text-align: right;\n",
              "    }\n",
              "</style>\n",
              "<table border=\"1\" class=\"dataframe\">\n",
              "  <thead>\n",
              "    <tr style=\"text-align: right;\">\n",
              "      <th></th>\n",
              "      <th>content</th>\n",
              "      <th>rate</th>\n",
              "    </tr>\n",
              "  </thead>\n",
              "  <tbody>\n",
              "    <tr>\n",
              "      <th>0</th>\n",
              "      <td>mua bỉm đợt sale 1 tr600k cho 4 bịch bỉm thì bị chia thành 2 đơn do hết hàng đợi vận_chuyển dài cả cổ nhưng cái chính là lúc thêm vào giỏ hàng thấy được tặng xe bập_bênh nhưng 30 giây sau khi than...</td>\n",
              "      <td>1</td>\n",
              "    </tr>\n",
              "    <tr>\n",
              "      <th>1</th>\n",
              "      <td>quá tệ1 về giao hàng với chăm_sóc khách_hàng mình đồng_ý mùa dịch nên giao hàng có_thể chậm_trễ hơn so với bình_thường nhưng cách chậm_trễ và đặc_biệt dịch_vụ chăm_sóc khách_hàng quá tệ liên_hệ ph...</td>\n",
              "      <td>1</td>\n",
              "    </tr>\n",
              "    <tr>\n",
              "      <th>3</th>\n",
              "      <td>chất_lượng bỉm thì tốt mà bên giao hàng và bên hỗ_trợ từ số hotline quá chậm chễ mình đặt 2 bịch cho 2 đứa 1 size xxl 1 size l đến ngày hẹn giao hàng chờ cả ngày không thấy đến tối muộn có nhân_vi...</td>\n",
              "      <td>1</td>\n",
              "    </tr>\n",
              "    <tr>\n",
              "      <th>4</th>\n",
              "      <td>hàng giả mọi người ơi đừng mua vì cái tã này mỏng hơn cái tã mình mua trực_tiếp của bobby luôn mọi người cẩn_thận nhé 419 k không phải ít tiền vì_vậy đừng để mua nhầm như mình</td>\n",
              "      <td>1</td>\n",
              "    </tr>\n",
              "    <tr>\n",
              "      <th>5</th>\n",
              "      <td>nhận được hàng vui_lam nhưng có thắc_mắc xiu gia ghi là 816100 nhưng nhận vien giao lai thứ mình 825000 đ mình cũng không y kien gi vì tình hinh dịch_bệnh qua nhưng mình không thich kiểu thứ tien ...</td>\n",
              "      <td>1</td>\n",
              "    </tr>\n",
              "    <tr>\n",
              "      <th>...</th>\n",
              "      <td>...</td>\n",
              "      <td>...</td>\n",
              "    </tr>\n",
              "    <tr>\n",
              "      <th>1958481</th>\n",
              "      <td>không dùng được vì không cắm được vào điện_thoại chỉ nối vào máy_tính được thôi</td>\n",
              "      <td>1</td>\n",
              "    </tr>\n",
              "    <tr>\n",
              "      <th>1958483</th>\n",
              "      <td>phần_mềm sử_dụng không được mua về cũng chẳng làm được gì quảng_cáo thì hay làm_sao dám mua mặt_hàng đắc tiền</td>\n",
              "      <td>1</td>\n",
              "    </tr>\n",
              "    <tr>\n",
              "      <th>1958484</th>\n",
              "      <td>tôi không_thể tải ứng_dụng và cài_đặt để sử_dụng được sản_phẩm đã mua đề_nghị hỗ_trợ ngay</td>\n",
              "      <td>1</td>\n",
              "    </tr>\n",
              "    <tr>\n",
              "      <th>1958485</th>\n",
              "      <td>chỉ dùng cho pc hoặc android máy_ảnh khá thô nên chỉ dùng đc cho người_lớn</td>\n",
              "      <td>1</td>\n",
              "    </tr>\n",
              "    <tr>\n",
              "      <th>1958530</th>\n",
              "      <td>sản_phẩm chưa xài nên chưa dánh giá sản_phẩm vì cửa_hàng giao thiếu thẻ nhớ 64 g làm_ăn không chuyên_nghiệp không nên mua hàng với những cửa_hàng không có mục chat trực_tiếp không biết cố_tình hay...</td>\n",
              "      <td>1</td>\n",
              "    </tr>\n",
              "  </tbody>\n",
              "</table>\n",
              "<p>120840 rows × 2 columns</p>\n",
              "</div>"
            ],
            "text/plain": [
              "                                                                                                                                                                                                         content  \\\n",
              "0        mua bỉm đợt sale 1 tr600k cho 4 bịch bỉm thì bị chia thành 2 đơn do hết hàng đợi vận_chuyển dài cả cổ nhưng cái chính là lúc thêm vào giỏ hàng thấy được tặng xe bập_bênh nhưng 30 giây sau khi than...   \n",
              "1        quá tệ1 về giao hàng với chăm_sóc khách_hàng mình đồng_ý mùa dịch nên giao hàng có_thể chậm_trễ hơn so với bình_thường nhưng cách chậm_trễ và đặc_biệt dịch_vụ chăm_sóc khách_hàng quá tệ liên_hệ ph...   \n",
              "3        chất_lượng bỉm thì tốt mà bên giao hàng và bên hỗ_trợ từ số hotline quá chậm chễ mình đặt 2 bịch cho 2 đứa 1 size xxl 1 size l đến ngày hẹn giao hàng chờ cả ngày không thấy đến tối muộn có nhân_vi...   \n",
              "4                                hàng giả mọi người ơi đừng mua vì cái tã này mỏng hơn cái tã mình mua trực_tiếp của bobby luôn mọi người cẩn_thận nhé 419 k không phải ít tiền vì_vậy đừng để mua nhầm như mình   \n",
              "5        nhận được hàng vui_lam nhưng có thắc_mắc xiu gia ghi là 816100 nhưng nhận vien giao lai thứ mình 825000 đ mình cũng không y kien gi vì tình hinh dịch_bệnh qua nhưng mình không thich kiểu thứ tien ...   \n",
              "...                                                                                                                                                                                                          ...   \n",
              "1958481                                                                                                                          không dùng được vì không cắm được vào điện_thoại chỉ nối vào máy_tính được thôi   \n",
              "1958483                                                                                            phần_mềm sử_dụng không được mua về cũng chẳng làm được gì quảng_cáo thì hay làm_sao dám mua mặt_hàng đắc tiền   \n",
              "1958484                                                                                                                tôi không_thể tải ứng_dụng và cài_đặt để sử_dụng được sản_phẩm đã mua đề_nghị hỗ_trợ ngay   \n",
              "1958485                                                                                                                               chỉ dùng cho pc hoặc android máy_ảnh khá thô nên chỉ dùng đc cho người_lớn   \n",
              "1958530  sản_phẩm chưa xài nên chưa dánh giá sản_phẩm vì cửa_hàng giao thiếu thẻ nhớ 64 g làm_ăn không chuyên_nghiệp không nên mua hàng với những cửa_hàng không có mục chat trực_tiếp không biết cố_tình hay...   \n",
              "\n",
              "         rate  \n",
              "0           1  \n",
              "1           1  \n",
              "3           1  \n",
              "4           1  \n",
              "5           1  \n",
              "...       ...  \n",
              "1958481     1  \n",
              "1958483     1  \n",
              "1958484     1  \n",
              "1958485     1  \n",
              "1958530     1  \n",
              "\n",
              "[120840 rows x 2 columns]"
            ]
          },
          "execution_count": 17,
          "metadata": {},
          "output_type": "execute_result"
        }
      ],
      "source": [
        "df_bad_new"
      ]
    },
    {
      "cell_type": "markdown",
      "metadata": {},
      "source": [
        "### Lấy 4000 bình luận tích cực và 2500 bình luận tiêu cực"
      ]
    },
    {
      "cell_type": "code",
      "execution_count": 18,
      "metadata": {},
      "outputs": [],
      "source": [
        "frame = [df_good_new[:4000], df_bad_new[:2500]]\n",
        "total = pd.concat(frame)"
      ]
    },
    {
      "cell_type": "code",
      "execution_count": 19,
      "metadata": {},
      "outputs": [
        {
          "name": "stdout",
          "output_type": "stream",
          "text": [
            "TÍch cực:  4000\n",
            "Tiêu cực:  2500\n"
          ]
        },
        {
          "data": {
            "image/png": "[encoded data removed]",
            "text/plain": [
              "<Figure size 720x720 with 1 Axes>"
            ]
          },
          "metadata": {},
          "output_type": "display_data"
        }
      ],
      "source": [
        "def func(pct):\n",
        "    return \"{:1.1f}%\".format(pct)\n",
        "def numRateBinary(df_frame):\n",
        "   # get number rate\n",
        "    rate_0 = len((df_frame[df_frame['rate'] == 0]))\n",
        "    rate_1 = len((df_frame[df_frame['rate'] == 1]))\n",
        "    #\n",
        "    print(\"TÍch cực: \", rate_0)\n",
        "    print(\"Tiêu cực: \", rate_1)\n",
        "    #\n",
        "    return [rate_0, rate_1]\n",
        "# Get value\n",
        "numRateArray = numRateBinary(total)\n",
        "labels = ['Tích cực', 'Tiêu cực']\n",
        "# Ve\n",
        "plt.figure(figsize=(10, 10))\n",
        "plt.pie(numRateArray, labels=labels,\n",
        "        autopct=lambda pct: func(pct), explode=[0, 0.1], shadow=True)\n",
        "plt.title('Tỉ lệ Rating comments')\n",
        "plt.axis('equal')\n",
        "plt.show()\n"
      ]
    },
    {
      "cell_type": "markdown",
      "metadata": {
        "id": "cZjXsjslIPoS"
      },
      "source": [
        "#### Xáo trộn dữ liệu"
      ]
    },
    {
      "cell_type": "code",
      "execution_count": 20,
      "metadata": {
        "colab": {
          "base_uri": "https://localhost:8080/",
          "height": 424
        },
        "id": "k6wY1FTQIPoT",
        "outputId": "ef268b70-a059-4eaf-b465-0038f254fef0"
      },
      "outputs": [
        {
          "data": {
            "text/html": [
              "<div>\n",
              "<style scoped>\n",
              "    .dataframe tbody tr th:only-of-type {\n",
              "        vertical-align: middle;\n",
              "    }\n",
              "\n",
              "    .dataframe tbody tr th {\n",
              "        vertical-align: top;\n",
              "    }\n",
              "\n",
              "    .dataframe thead th {\n",
              "        text-align: right;\n",
              "    }\n",
              "</style>\n",
              "<table border=\"1\" class=\"dataframe\">\n",
              "  <thead>\n",
              "    <tr style=\"text-align: right;\">\n",
              "      <th></th>\n",
              "      <th>content</th>\n",
              "      <th>rate</th>\n",
              "    </tr>\n",
              "  </thead>\n",
              "  <tbody>\n",
              "    <tr>\n",
              "      <th>4547</th>\n",
              "      <td>shipper giao hàng khó_chịu thái_độ không tốt mình xin_lỗi vì mình mới chuyển nhà mới số 9 a sát vách nhà số 9 bên kia mình cho thuê nhưng *_*_* và mọi thứ còn lại đều đúng shipper giao tới có_thể ...</td>\n",
              "      <td>1</td>\n",
              "    </tr>\n",
              "    <tr>\n",
              "      <th>12274</th>\n",
              "      <td>hàng tốt giá rẻ hơn nhiều so với mua ngoài nhưng đợt này tiki giao hàng quá chậm</td>\n",
              "      <td>0</td>\n",
              "    </tr>\n",
              "    <tr>\n",
              "      <th>23594</th>\n",
              "      <td>vote hẳn 5 sao vì viên nén omo vesta vệ_sinh lồng giặt quá_ư là tốt rồi xin sò mà giá phải chăng nữa quần_áo nhờ thế cũng tốt tho không bị mùi ẩm mốc cực_kỳ ưng_ý luôn sẽ đặt thêm nữa về xài</td>\n",
              "      <td>0</td>\n",
              "    </tr>\n",
              "    <tr>\n",
              "      <th>53958</th>\n",
              "      <td>chất_lượng tốt mùi tốt dễ_chịu kết_hợp với nước xả dnee nữa sẽ mềm quần_áo và tốt lâu hơn</td>\n",
              "      <td>1</td>\n",
              "    </tr>\n",
              "    <tr>\n",
              "      <th>1962</th>\n",
              "      <td>nước giặt đặc tốt giao hàng nhanh đóng_gói cẩn_thận giá sale lại được tặng quà</td>\n",
              "      <td>0</td>\n",
              "    </tr>\n",
              "    <tr>\n",
              "      <th>...</th>\n",
              "      <td>...</td>\n",
              "      <td>...</td>\n",
              "    </tr>\n",
              "    <tr>\n",
              "      <th>22895</th>\n",
              "      <td>tikinow giao hàng nhanhmua đợt sales được giá mềmchất lượng tốt hương cực_kì tốt và dễ_chịu</td>\n",
              "      <td>0</td>\n",
              "    </tr>\n",
              "    <tr>\n",
              "      <th>15688</th>\n",
              "      <td>sản_phẩm tốt mùi rất tốt luôn giao hàng nhanh ghê luôn quà tặng đúng đẹp ạ</td>\n",
              "      <td>0</td>\n",
              "    </tr>\n",
              "    <tr>\n",
              "      <th>24786</th>\n",
              "      <td>đã nhận được hànggiao hàng nhanhsáng nay đặt là giao hàng vào sáng hôm sau rồicảm ơn tiki</td>\n",
              "      <td>0</td>\n",
              "    </tr>\n",
              "    <tr>\n",
              "      <th>27281</th>\n",
              "      <td>giao hàng nhanh giật_mình luôn đóng_gói cẩn_thận 111 mua đc giá tốt quá cảm_ơn tiki nhiều</td>\n",
              "      <td>0</td>\n",
              "    </tr>\n",
              "    <tr>\n",
              "      <th>39350</th>\n",
              "      <td>khi đặt mua thì nói có quà tặng khi giao thì không có mà quà chỉ là dag chờ xử_lý đặt 40 ngày mới nhận được hàng</td>\n",
              "      <td>1</td>\n",
              "    </tr>\n",
              "  </tbody>\n",
              "</table>\n",
              "<p>6500 rows × 2 columns</p>\n",
              "</div>"
            ],
            "text/plain": [
              "                                                                                                                                                                                                       content  \\\n",
              "4547   shipper giao hàng khó_chịu thái_độ không tốt mình xin_lỗi vì mình mới chuyển nhà mới số 9 a sát vách nhà số 9 bên kia mình cho thuê nhưng *_*_* và mọi thứ còn lại đều đúng shipper giao tới có_thể ...   \n",
              "12274                                                                                                                         hàng tốt giá rẻ hơn nhiều so với mua ngoài nhưng đợt này tiki giao hàng quá chậm   \n",
              "23594           vote hẳn 5 sao vì viên nén omo vesta vệ_sinh lồng giặt quá_ư là tốt rồi xin sò mà giá phải chăng nữa quần_áo nhờ thế cũng tốt tho không bị mùi ẩm mốc cực_kỳ ưng_ý luôn sẽ đặt thêm nữa về xài   \n",
              "53958                                                                                                                chất_lượng tốt mùi tốt dễ_chịu kết_hợp với nước xả dnee nữa sẽ mềm quần_áo và tốt lâu hơn   \n",
              "1962                                                                                                                            nước giặt đặc tốt giao hàng nhanh đóng_gói cẩn_thận giá sale lại được tặng quà   \n",
              "...                                                                                                                                                                                                        ...   \n",
              "22895                                                                                                              tikinow giao hàng nhanhmua đợt sales được giá mềmchất lượng tốt hương cực_kì tốt và dễ_chịu   \n",
              "15688                                                                                                                               sản_phẩm tốt mùi rất tốt luôn giao hàng nhanh ghê luôn quà tặng đúng đẹp ạ   \n",
              "24786                                                                                                                đã nhận được hànggiao hàng nhanhsáng nay đặt là giao hàng vào sáng hôm sau rồicảm ơn tiki   \n",
              "27281                                                                                                                giao hàng nhanh giật_mình luôn đóng_gói cẩn_thận 111 mua đc giá tốt quá cảm_ơn tiki nhiều   \n",
              "39350                                                                                         khi đặt mua thì nói có quà tặng khi giao thì không có mà quà chỉ là dag chờ xử_lý đặt 40 ngày mới nhận được hàng   \n",
              "\n",
              "       rate  \n",
              "4547      1  \n",
              "12274     0  \n",
              "23594     0  \n",
              "53958     1  \n",
              "1962      0  \n",
              "...     ...  \n",
              "22895     0  \n",
              "15688     0  \n",
              "24786     0  \n",
              "27281     0  \n",
              "39350     1  \n",
              "\n",
              "[6500 rows x 2 columns]"
            ]
          },
          "execution_count": 20,
          "metadata": {},
          "output_type": "execute_result"
        }
      ],
      "source": [
        "total.sample(frac=1, replace=True)"
      ]
    },
    {
      "cell_type": "markdown",
      "metadata": {
        "id": "S4EdQ5pfIPoT"
      },
      "source": [
        "# Variable label & content"
      ]
    },
    {
      "cell_type": "code",
      "execution_count": 21,
      "metadata": {
        "colab": {
          "base_uri": "https://localhost:8080/"
        },
        "id": "LyB-zmmyIPoU",
        "outputId": "e2dfba2c-7961-4bff-8915-a5e235f8f654"
      },
      "outputs": [
        {
          "name": "stdout",
          "output_type": "stream",
          "text": [
            "(6500,)\n",
            "(6500,)\n"
          ]
        }
      ],
      "source": [
        "content = total['content']\n",
        "labels = total['rate']\n",
        "print(content.shape)\n",
        "print(labels.shape)\n"
      ]
    },
    {
      "cell_type": "markdown",
      "metadata": {
        "id": "9Us-TkgxIPoU"
      },
      "source": [
        "# Import Bert"
      ]
    },
    {
      "cell_type": "code",
      "execution_count": 22,
      "metadata": {
        "colab": {
          "base_uri": "https://localhost:8080/"
        },
        "id": "7JfBTz96IPoV",
        "outputId": "9178a9a3-dc41-4cc1-eedc-d01737797b70"
      },
      "outputs": [
        {
          "name": "stderr",
          "output_type": "stream",
          "text": [
            "Some weights of the model checkpoint at vinai/phobert-base were not used when initializing RobertaModel: ['lm_head.decoder.weight', 'lm_head.layer_norm.weight', 'lm_head.dense.bias', 'lm_head.dense.weight', 'lm_head.bias', 'lm_head.layer_norm.bias', 'lm_head.decoder.bias']\n",
            "- This IS expected if you are initializing RobertaModel from the checkpoint of a model trained on another task or with another architecture (e.g. initializing a BertForSequenceClassification model from a BertForPreTraining model).\n",
            "- This IS NOT expected if you are initializing RobertaModel from the checkpoint of a model that you expect to be exactly identical (initializing a BertForSequenceClassification model from a BertForSequenceClassification model).\n",
            "Special tokens have been added in the vocabulary, make sure the associated word embeddings are fine-tuned or trained.\n"
          ]
        }
      ],
      "source": [
        "import torch\n",
        "from transformers import AutoModel, AutoTokenizer\n",
        "\n",
        "phobert = AutoModel.from_pretrained(\"vinai/phobert-base\")\n",
        "tokenizer = AutoTokenizer.from_pretrained(\"vinai/phobert-base\")"
      ]
    },
    {
      "cell_type": "markdown",
      "metadata": {
        "id": "SQsCEypWIPoW"
      },
      "source": [
        "#### Tokenized"
      ]
    },
    {
      "cell_type": "code",
      "execution_count": 23,
      "metadata": {
        "id": "2-br-LvuIPoX"
      },
      "outputs": [],
      "source": [
        "max_len = 50\n",
        "# index user random\n",
        "index = 50"
      ]
    },
    {
      "cell_type": "code",
      "execution_count": 24,
      "metadata": {
        "colab": {
          "base_uri": "https://localhost:8080/",
          "height": 328
        },
        "id": "bAHHF80qIPoX",
        "outputId": "10455e55-6372-478b-c9d6-55ad45d9c618"
      },
      "outputs": [],
      "source": [
        "tokenized = content.apply(lambda x: tokenizer.encode(\n",
        "    x, max_length=max_len, truncation=True))"
      ]
    },
    {
      "cell_type": "markdown",
      "metadata": {
        "id": "2jllrVPbIPoX"
      },
      "source": [
        "# Padding\n",
        "- Padding để đảm bảo input có độ dài như nhau"
      ]
    },
    {
      "cell_type": "code",
      "execution_count": 25,
      "metadata": {
        "colab": {
          "base_uri": "https://localhost:8080/"
        },
        "id": "hLeJcIluIPoY",
        "outputId": "cfa189f1-3c8b-4a42-e189-5555a2ec2bf5"
      },
      "outputs": [
        {
          "name": "stdout",
          "output_type": "stream",
          "text": [
            "padded: [    0  2081  5418   574   119  1031   485 49833   878   654    71    64\n",
            "  2018   654    53    14    30   182 39393  9353  3188     6  3857     2\n",
            "     0     0     0     0     0     0     0     0     0     0     0     0\n",
            "     0     0     0     0     0     0     0     0     0     0     0     0\n",
            "     0     0]\n",
            "len padded: (6500, 50)\n"
          ]
        }
      ],
      "source": [
        "padded = np.array([i + [0]*(max_len-len(i)) for i in tokenized.values])\n",
        "print('padded:', padded[index])\n",
        "print('len padded:', padded.shape)"
      ]
    },
    {
      "cell_type": "code",
      "execution_count": 27,
      "metadata": {
        "id": "TKnotzmipwE2"
      },
      "outputs": [],
      "source": [
        "import pickle\n",
        "\n",
        "def _save_pkl(path, obj):\n",
        "  with open(path, 'wb') as f:\n",
        "    pickle.dump(obj, f)\n",
        "\n",
        "\n",
        "# Lưu lại các files\n",
        "_save_pkl('./file_pkl/padding.pkl', padded)\n",
        "_save_pkl('./file_pkl/labels.pkl', labels)"
      ]
    }
  ],
  "metadata": {
    "accelerator": "GPU",
    "colab": {
      "collapsed_sections": [],
      "name": "TaoTokenizer.ipynb",
      "provenance": [],
      "toc_visible": true
    },
    "interpreter": {
      "hash": "ad2bdc8ecc057115af97d19610ffacc2b4e99fae6737bb82f5d7fb13d2f2c186"
    },
    "kernelspec": {
      "display_name": "Python 3 (ipykernel)",
      "language": "python",
      "name": "python3"
    },
    "language_info": {
      "codemirror_mode": {
        "name": "ipython",
        "version": 3
      },
      "file_extension": ".py",
      "mimetype": "text/x-python",
      "name": "python",
      "nbconvert_exporter": "python",
      "pygments_lexer": "ipython3",
      "version": "3.9.12"
    }
  },
  "nbformat": 4,
  "nbformat_minor": 0
}
