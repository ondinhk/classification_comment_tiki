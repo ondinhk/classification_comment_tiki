{
  "cells": [
    {
      "cell_type": "markdown",
      "metadata": {},
      "source": [
        "- Giảm bớt dữ liệu \n",
        "- Giảm chiều đầu vào, tức giảm số từ\n",
        "- Tiến hành chuyển token \n",
        "- Trích đặc trưng bằng bert"
      ]
    },
    {
      "cell_type": "markdown",
      "metadata": {},
      "source": [
        "# Import"
      ]
    },
    {
      "cell_type": "code",
      "execution_count": 1,
      "metadata": {
        "colab": {
          "base_uri": "https://localhost:8080/"
        },
        "id": "frS3MrOrIPoN",
        "outputId": "b857705a-3d9b-413a-d2cb-4f07203b24ee"
      },
      "outputs": [],
      "source": [
        "import numpy as np\n",
        "import pandas as pd\n",
        "pd.set_option(\"max_colwidth\", 100)\n",
        "import matplotlib.pyplot as plt\n"
      ]
    },
    {
      "cell_type": "code",
      "execution_count": 2,
      "metadata": {},
      "outputs": [],
      "source": [
        "# Max lenght vector\n",
        "max_len = 20\n",
        "# len dataset\n",
        "max_data_good = 8000\n",
        "max_data_bad = 6000\n",
        "# index user random\n",
        "index = 50\n",
        "# number words\n",
        "min_words = 4"
      ]
    },
    {
      "cell_type": "markdown",
      "metadata": {
        "id": "CQtPzIM9IPoP"
      },
      "source": [
        "# Load file"
      ]
    },
    {
      "cell_type": "code",
      "execution_count": 3,
      "metadata": {
        "id": "oz02RGR3IPoQ"
      },
      "outputs": [],
      "source": [
        "path_file = \"./data/non_stop_word(3).json\"\n",
        "df = pd.read_json(path_file)"
      ]
    },
    {
      "cell_type": "markdown",
      "metadata": {},
      "source": [
        "# Số lượng bình luận theo rate"
      ]
    },
    {
      "cell_type": "code",
      "execution_count": 4,
      "metadata": {},
      "outputs": [
        {
          "name": "stdout",
          "output_type": "stream",
          "text": [
            "1652191\n",
            "306361\n"
          ]
        }
      ],
      "source": [
        "print(len(df[df['rate']==0]))\n",
        "print(len(df[df['rate']==1]))"
      ]
    },
    {
      "cell_type": "markdown",
      "metadata": {},
      "source": [
        "# Lọc bình luận tích cực\n",
        "- Giảm bớt số lượng bình luận tích cực, bằng cách chỉ giữ lại nhừng bình luận có trên 15 từ trở lên"
      ]
    },
    {
      "cell_type": "code",
      "execution_count": 5,
      "metadata": {},
      "outputs": [
        {
          "name": "stderr",
          "output_type": "stream",
          "text": [
            "C:\\Users\\OnKhang\\AppData\\Local\\Temp\\ipykernel_5516\\3547707240.py:8: SettingWithCopyWarning: \n",
            "A value is trying to be set on a copy of a slice from a DataFrame.\n",
            "Try using .loc[row_indexer,col_indexer] = value instead\n",
            "\n",
            "See the caveats in the documentation: https://pandas.pydata.org/pandas-docs/stable/user_guide/indexing.html#returning-a-view-versus-a-copy\n",
            "  df_good['content'] = df_good['content'].apply(lambda x: x.replace(\n"
          ]
        }
      ],
      "source": [
        "df_good = df[df['rate']==0]\n",
        "def zero(text):\n",
        "    arr = text.split()\n",
        "    if (len(arr) >= min_words):\n",
        "        return text\n",
        "    else:\n",
        "        return str('non')\n",
        "df_good['content'] = df_good['content'].apply(lambda x: x.replace(\n",
        "    str(x), zero(x)))"
      ]
    },
    {
      "cell_type": "markdown",
      "metadata": {},
      "source": [
        "#### Số bình luận ít hơn 7 từ"
      ]
    },
    {
      "cell_type": "code",
      "execution_count": 6,
      "metadata": {},
      "outputs": [
        {
          "data": {
            "text/plain": [
              "526628"
            ]
          },
          "execution_count": 6,
          "metadata": {},
          "output_type": "execute_result"
        }
      ],
      "source": [
        "len(df_good[df_good['content']==\"non\"])"
      ]
    },
    {
      "cell_type": "markdown",
      "metadata": {},
      "source": [
        "#### Số bình luận còn lại sau khi lọc"
      ]
    },
    {
      "cell_type": "code",
      "execution_count": 7,
      "metadata": {},
      "outputs": [
        {
          "data": {
            "text/plain": [
              "1125563"
            ]
          },
          "execution_count": 7,
          "metadata": {},
          "output_type": "execute_result"
        }
      ],
      "source": [
        "df_good_new = df_good[df_good['content'] != \"non\"]\n",
        "len(df_good_new)"
      ]
    },
    {
      "cell_type": "markdown",
      "metadata": {},
      "source": [
        "# Lọc bình luận tiêu cực\n",
        "- Làm tương tự như bình luận tích cực"
      ]
    },
    {
      "cell_type": "code",
      "execution_count": 8,
      "metadata": {},
      "outputs": [
        {
          "name": "stderr",
          "output_type": "stream",
          "text": [
            "C:\\Users\\OnKhang\\AppData\\Local\\Temp\\ipykernel_5516\\2587787443.py:9: SettingWithCopyWarning: \n",
            "A value is trying to be set on a copy of a slice from a DataFrame.\n",
            "Try using .loc[row_indexer,col_indexer] = value instead\n",
            "\n",
            "See the caveats in the documentation: https://pandas.pydata.org/pandas-docs/stable/user_guide/indexing.html#returning-a-view-versus-a-copy\n",
            "  df_bad['content'] = df_bad['content'].apply(lambda x: x.replace(\n"
          ]
        }
      ],
      "source": [
        "df_bad = df[df['rate']==1]\n",
        "def zero(text):\n",
        "    arr = text.split()\n",
        "    if len(arr) >= min_words:\n",
        "        return text\n",
        "    else:\n",
        "        return str('non')\n",
        "\n",
        "df_bad['content'] = df_bad['content'].apply(lambda x: x.replace(\n",
        "    str(x), zero(x)))"
      ]
    },
    {
      "cell_type": "markdown",
      "metadata": {},
      "source": [
        "### Số bình luận ít hơn 7 từ"
      ]
    },
    {
      "cell_type": "code",
      "execution_count": 9,
      "metadata": {},
      "outputs": [
        {
          "name": "stdout",
          "output_type": "stream",
          "text": [
            "9168\n"
          ]
        }
      ],
      "source": [
        "print(len(df_bad[df_bad['content'] == \"non\"]))"
      ]
    },
    {
      "cell_type": "markdown",
      "metadata": {},
      "source": [
        "#### Số bình luận còn lại sau khi lọc"
      ]
    },
    {
      "cell_type": "code",
      "execution_count": 10,
      "metadata": {},
      "outputs": [
        {
          "data": {
            "text/plain": [
              "306361"
            ]
          },
          "execution_count": 10,
          "metadata": {},
          "output_type": "execute_result"
        }
      ],
      "source": [
        "df_bad_new = df_bad[df_bad['content'] != \"non\"]\n",
        "len(df_bad)"
      ]
    },
    {
      "cell_type": "markdown",
      "metadata": {},
      "source": [
        "# Trộn dữ liệu và Gộp 2 bảng lại"
      ]
    },
    {
      "cell_type": "code",
      "execution_count": 11,
      "metadata": {},
      "outputs": [
        {
          "data": {
            "text/html": [
              "<div>\n",
              "<style scoped>\n",
              "    .dataframe tbody tr th:only-of-type {\n",
              "        vertical-align: middle;\n",
              "    }\n",
              "\n",
              "    .dataframe tbody tr th {\n",
              "        vertical-align: top;\n",
              "    }\n",
              "\n",
              "    .dataframe thead th {\n",
              "        text-align: right;\n",
              "    }\n",
              "</style>\n",
              "<table border=\"1\" class=\"dataframe\">\n",
              "  <thead>\n",
              "    <tr style=\"text-align: right;\">\n",
              "      <th></th>\n",
              "      <th>content</th>\n",
              "      <th>rate</th>\n",
              "    </tr>\n",
              "  </thead>\n",
              "  <tbody>\n",
              "    <tr>\n",
              "      <th>2</th>\n",
              "      <td>hàng chất_lượng giá rẻ hơn cửa_hàng nhưng bỉm có mùi hàng chất_lượng giá rẻ hơn cửa_hàng nhưng b...</td>\n",
              "      <td>0</td>\n",
              "    </tr>\n",
              "    <tr>\n",
              "      <th>8</th>\n",
              "      <td>bịch lớn nên dùng rất tiện không phải mua nhiều lần hầu_hết các cửa_hàng_không bán bịch to nên m...</td>\n",
              "      <td>0</td>\n",
              "    </tr>\n",
              "    <tr>\n",
              "      <th>9</th>\n",
              "      <td>mới đặt_hàng chiều muộn hôm trước sáng sớm hôm sau đã nhận được hàng quá nhanh quá bất_ngờ bỉm m...</td>\n",
              "      <td>0</td>\n",
              "    </tr>\n",
              "    <tr>\n",
              "      <th>10</th>\n",
              "      <td>lâu không dùng bobby ( trc trung_thành với bobby 4 năm ) giờ quay lại dùng thấy bỉm mỏng nhg độ ...</td>\n",
              "      <td>0</td>\n",
              "    </tr>\n",
              "    <tr>\n",
              "      <th>12</th>\n",
              "      <td>bỉm dùng tốt tuy_nhiên lớp chống tràn rất cứng mặc có vết lằn cho bé mỏng thấm hút nhanh hợp với...</td>\n",
              "      <td>0</td>\n",
              "    </tr>\n",
              "    <tr>\n",
              "      <th>...</th>\n",
              "      <td>...</td>\n",
              "      <td>...</td>\n",
              "    </tr>\n",
              "    <tr>\n",
              "      <th>1958536</th>\n",
              "      <td>giao hàng nhanh sản_phẩm tốt chất_lượng cao cửa_hàng phục_vụ tốt tiki chế_độ mã giảm_giá tốt</td>\n",
              "      <td>0</td>\n",
              "    </tr>\n",
              "    <tr>\n",
              "      <th>1958538</th>\n",
              "      <td>tranh giao hàng vào lúc nghĩ trưa 12 h</td>\n",
              "      <td>0</td>\n",
              "    </tr>\n",
              "    <tr>\n",
              "      <th>1958539</th>\n",
              "      <td>ổn lâu_dài không biết tn</td>\n",
              "      <td>0</td>\n",
              "    </tr>\n",
              "    <tr>\n",
              "      <th>1958540</th>\n",
              "      <td>quá là nét luôn hình_ảnh như thật luôn</td>\n",
              "      <td>0</td>\n",
              "    </tr>\n",
              "    <tr>\n",
              "      <th>1958541</th>\n",
              "      <td>sản_phẩm tốt cảm_ơn cửa_hàng</td>\n",
              "      <td>0</td>\n",
              "    </tr>\n",
              "  </tbody>\n",
              "</table>\n",
              "<p>1125563 rows × 2 columns</p>\n",
              "</div>"
            ],
            "text/plain": [
              "                                                                                                     content  \\\n",
              "2        hàng chất_lượng giá rẻ hơn cửa_hàng nhưng bỉm có mùi hàng chất_lượng giá rẻ hơn cửa_hàng nhưng b...   \n",
              "8        bịch lớn nên dùng rất tiện không phải mua nhiều lần hầu_hết các cửa_hàng_không bán bịch to nên m...   \n",
              "9        mới đặt_hàng chiều muộn hôm trước sáng sớm hôm sau đã nhận được hàng quá nhanh quá bất_ngờ bỉm m...   \n",
              "10       lâu không dùng bobby ( trc trung_thành với bobby 4 năm ) giờ quay lại dùng thấy bỉm mỏng nhg độ ...   \n",
              "12       bỉm dùng tốt tuy_nhiên lớp chống tràn rất cứng mặc có vết lằn cho bé mỏng thấm hút nhanh hợp với...   \n",
              "...                                                                                                      ...   \n",
              "1958536         giao hàng nhanh sản_phẩm tốt chất_lượng cao cửa_hàng phục_vụ tốt tiki chế_độ mã giảm_giá tốt   \n",
              "1958538                                                               tranh giao hàng vào lúc nghĩ trưa 12 h   \n",
              "1958539                                                                             ổn lâu_dài không biết tn   \n",
              "1958540                                                               quá là nét luôn hình_ảnh như thật luôn   \n",
              "1958541                                                                         sản_phẩm tốt cảm_ơn cửa_hàng   \n",
              "\n",
              "         rate  \n",
              "2           0  \n",
              "8           0  \n",
              "9           0  \n",
              "10          0  \n",
              "12          0  \n",
              "...       ...  \n",
              "1958536     0  \n",
              "1958538     0  \n",
              "1958539     0  \n",
              "1958540     0  \n",
              "1958541     0  \n",
              "\n",
              "[1125563 rows x 2 columns]"
            ]
          },
          "execution_count": 11,
          "metadata": {},
          "output_type": "execute_result"
        }
      ],
      "source": [
        "df_good_new"
      ]
    },
    {
      "cell_type": "code",
      "execution_count": 12,
      "metadata": {},
      "outputs": [
        {
          "data": {
            "text/html": [
              "<div>\n",
              "<style scoped>\n",
              "    .dataframe tbody tr th:only-of-type {\n",
              "        vertical-align: middle;\n",
              "    }\n",
              "\n",
              "    .dataframe tbody tr th {\n",
              "        vertical-align: top;\n",
              "    }\n",
              "\n",
              "    .dataframe thead th {\n",
              "        text-align: right;\n",
              "    }\n",
              "</style>\n",
              "<table border=\"1\" class=\"dataframe\">\n",
              "  <thead>\n",
              "    <tr style=\"text-align: right;\">\n",
              "      <th></th>\n",
              "      <th>content</th>\n",
              "      <th>rate</th>\n",
              "    </tr>\n",
              "  </thead>\n",
              "  <tbody>\n",
              "    <tr>\n",
              "      <th>0</th>\n",
              "      <td>mua bỉm đợt sale 1 tr600k cho 4 bịch bỉm thì bị chia thành 2 đơn do hết hàng đợi vận_chuyển dài ...</td>\n",
              "      <td>1</td>\n",
              "    </tr>\n",
              "    <tr>\n",
              "      <th>1</th>\n",
              "      <td>quá tệ1 về giao hàng với chăm_sóc khách_hàng mình đồng_ý mùa dịch nên giao hàng có_thể chậm_trễ ...</td>\n",
              "      <td>1</td>\n",
              "    </tr>\n",
              "    <tr>\n",
              "      <th>3</th>\n",
              "      <td>chất_lượng bỉm thì tốt mà bên giao hàng và bên hỗ_trợ từ số hotline quá chậm chễ mình đặt 2 bịch...</td>\n",
              "      <td>1</td>\n",
              "    </tr>\n",
              "    <tr>\n",
              "      <th>4</th>\n",
              "      <td>hàng giả mọi người ơi đừng mua vì cái tã này mỏng hơn cái tã mình mua trực_tiếp của bobby luôn m...</td>\n",
              "      <td>1</td>\n",
              "    </tr>\n",
              "    <tr>\n",
              "      <th>5</th>\n",
              "      <td>nhận được hàng vui_lam nhưng có thắc_mắc xiu gia ghi là 816100 nhưng nhận vien giao lai thứ mình...</td>\n",
              "      <td>1</td>\n",
              "    </tr>\n",
              "    <tr>\n",
              "      <th>...</th>\n",
              "      <td>...</td>\n",
              "      <td>...</td>\n",
              "    </tr>\n",
              "    <tr>\n",
              "      <th>1958547</th>\n",
              "      <td>liên_hệ với tôi nhé máy_bay không tìm thấy chỗ để sạc pin</td>\n",
              "      <td>1</td>\n",
              "    </tr>\n",
              "    <tr>\n",
              "      <th>1958548</th>\n",
              "      <td>cửa_hàng cái đầu này cắm tn đăng_ký</td>\n",
              "      <td>1</td>\n",
              "    </tr>\n",
              "    <tr>\n",
              "      <th>1958549</th>\n",
              "      <td>tại_sao giao mình lại thiếu_phụ_kiện máy_ảnh vậy cửa_hàng</td>\n",
              "      <td>1</td>\n",
              "    </tr>\n",
              "    <tr>\n",
              "      <th>1958550</th>\n",
              "      <td>không có hướng_dẫn tiếng việt</td>\n",
              "      <td>1</td>\n",
              "    </tr>\n",
              "    <tr>\n",
              "      <th>1958551</th>\n",
              "      <td>giá đắt sô với thị_trường</td>\n",
              "      <td>1</td>\n",
              "    </tr>\n",
              "  </tbody>\n",
              "</table>\n",
              "<p>297193 rows × 2 columns</p>\n",
              "</div>"
            ],
            "text/plain": [
              "                                                                                                     content  \\\n",
              "0        mua bỉm đợt sale 1 tr600k cho 4 bịch bỉm thì bị chia thành 2 đơn do hết hàng đợi vận_chuyển dài ...   \n",
              "1        quá tệ1 về giao hàng với chăm_sóc khách_hàng mình đồng_ý mùa dịch nên giao hàng có_thể chậm_trễ ...   \n",
              "3        chất_lượng bỉm thì tốt mà bên giao hàng và bên hỗ_trợ từ số hotline quá chậm chễ mình đặt 2 bịch...   \n",
              "4        hàng giả mọi người ơi đừng mua vì cái tã này mỏng hơn cái tã mình mua trực_tiếp của bobby luôn m...   \n",
              "5        nhận được hàng vui_lam nhưng có thắc_mắc xiu gia ghi là 816100 nhưng nhận vien giao lai thứ mình...   \n",
              "...                                                                                                      ...   \n",
              "1958547                                            liên_hệ với tôi nhé máy_bay không tìm thấy chỗ để sạc pin   \n",
              "1958548                                                                  cửa_hàng cái đầu này cắm tn đăng_ký   \n",
              "1958549                                            tại_sao giao mình lại thiếu_phụ_kiện máy_ảnh vậy cửa_hàng   \n",
              "1958550                                                                        không có hướng_dẫn tiếng việt   \n",
              "1958551                                                                            giá đắt sô với thị_trường   \n",
              "\n",
              "         rate  \n",
              "0           1  \n",
              "1           1  \n",
              "3           1  \n",
              "4           1  \n",
              "5           1  \n",
              "...       ...  \n",
              "1958547     1  \n",
              "1958548     1  \n",
              "1958549     1  \n",
              "1958550     1  \n",
              "1958551     1  \n",
              "\n",
              "[297193 rows x 2 columns]"
            ]
          },
          "execution_count": 12,
          "metadata": {},
          "output_type": "execute_result"
        }
      ],
      "source": [
        "df_bad_new"
      ]
    },
    {
      "cell_type": "markdown",
      "metadata": {},
      "source": [
        "### Lấy n bình luận tích cực và m bình luận tiêu cực"
      ]
    },
    {
      "cell_type": "code",
      "execution_count": 13,
      "metadata": {},
      "outputs": [],
      "source": [
        "frame = [df_good_new[:max_data_good], df_bad_new[:max_data_bad]]\n",
        "total = pd.concat(frame)\n",
        "total = total.sample(frac=1)"
      ]
    },
    {
      "cell_type": "code",
      "execution_count": 14,
      "metadata": {},
      "outputs": [
        {
          "data": {
            "text/plain": [
              "(14000, 2)"
            ]
          },
          "execution_count": 14,
          "metadata": {},
          "output_type": "execute_result"
        }
      ],
      "source": [
        "total.shape"
      ]
    },
    {
      "cell_type": "markdown",
      "metadata": {
        "id": "S4EdQ5pfIPoT"
      },
      "source": [
        "# Variable label & content"
      ]
    },
    {
      "cell_type": "code",
      "execution_count": 15,
      "metadata": {
        "colab": {
          "base_uri": "https://localhost:8080/"
        },
        "id": "LyB-zmmyIPoU",
        "outputId": "e2dfba2c-7961-4bff-8915-a5e235f8f654"
      },
      "outputs": [
        {
          "name": "stdout",
          "output_type": "stream",
          "text": [
            "(14000,)\n",
            "(14000,)\n"
          ]
        }
      ],
      "source": [
        "content = total['content']\n",
        "labels = total['rate']\n",
        "print(content.shape)\n",
        "print(labels.shape)\n"
      ]
    },
    {
      "cell_type": "markdown",
      "metadata": {
        "id": "9Us-TkgxIPoU"
      },
      "source": [
        "# Import Bert\n",
        "- Tiến hành đánh index từ bằng phoBert và padding dữ liệu cho dữ liệu có cùng chiều dài"
      ]
    },
    {
      "cell_type": "code",
      "execution_count": 16,
      "metadata": {
        "colab": {
          "base_uri": "https://localhost:8080/"
        },
        "id": "7JfBTz96IPoV",
        "outputId": "9178a9a3-dc41-4cc1-eedc-d01737797b70"
      },
      "outputs": [
        {
          "name": "stderr",
          "output_type": "stream",
          "text": [
            "Some weights of the model checkpoint at vinai/phobert-base were not used when initializing RobertaModel: ['lm_head.decoder.bias', 'lm_head.decoder.weight', 'lm_head.layer_norm.bias', 'lm_head.bias', 'lm_head.dense.weight', 'lm_head.layer_norm.weight', 'lm_head.dense.bias']\n",
            "- This IS expected if you are initializing RobertaModel from the checkpoint of a model trained on another task or with another architecture (e.g. initializing a BertForSequenceClassification model from a BertForPreTraining model).\n",
            "- This IS NOT expected if you are initializing RobertaModel from the checkpoint of a model that you expect to be exactly identical (initializing a BertForSequenceClassification model from a BertForSequenceClassification model).\n",
            "Special tokens have been added in the vocabulary, make sure the associated word embeddings are fine-tuned or trained.\n"
          ]
        }
      ],
      "source": [
        "import torch\n",
        "from transformers import AutoModel, AutoTokenizer\n",
        "\n",
        "phobert = AutoModel.from_pretrained(\"vinai/phobert-base\")\n",
        "tokenizer = AutoTokenizer.from_pretrained(\"vinai/phobert-base\")"
      ]
    },
    {
      "cell_type": "markdown",
      "metadata": {
        "id": "SQsCEypWIPoW"
      },
      "source": [
        "#### Tokenized"
      ]
    },
    {
      "cell_type": "code",
      "execution_count": 17,
      "metadata": {
        "colab": {
          "base_uri": "https://localhost:8080/",
          "height": 328
        },
        "id": "bAHHF80qIPoX",
        "outputId": "10455e55-6372-478b-c9d6-55ad45d9c618"
      },
      "outputs": [],
      "source": [
        "tokenized = content.apply(lambda x: tokenizer.encode(\n",
        "    x, max_length=max_len, truncation=True))"
      ]
    },
    {
      "cell_type": "markdown",
      "metadata": {
        "id": "2jllrVPbIPoX"
      },
      "source": [
        "# Padding\n",
        "- Padding để đảm bảo input có độ dài như nhau"
      ]
    },
    {
      "cell_type": "code",
      "execution_count": 18,
      "metadata": {
        "colab": {
          "base_uri": "https://localhost:8080/"
        },
        "id": "hLeJcIluIPoY",
        "outputId": "cfa189f1-3c8b-4a42-e189-5555a2ec2bf5"
      },
      "outputs": [
        {
          "name": "stdout",
          "output_type": "stream",
          "text": [
            "padded: [   0  580 1685 3289  650  574  119 2164 3857    2    0    0    0    0\n",
            "    0    0    0    0    0    0]\n",
            "len padded: (14000, 20)\n"
          ]
        }
      ],
      "source": [
        "padded = np.array([i + [0]*(max_len-len(i)) for i in tokenized.values])\n",
        "print('padded:', padded[index])\n",
        "print('len padded:', padded.shape)"
      ]
    },
    {
      "cell_type": "code",
      "execution_count": 19,
      "metadata": {
        "id": "TKnotzmipwE2"
      },
      "outputs": [],
      "source": [
        "import pickle\n",
        "\n",
        "def _save_pkl(path, obj):\n",
        "  with open(path, 'wb') as f:\n",
        "    pickle.dump(obj, f)\n",
        "\n",
        "\n",
        "# Lưu lại các files\n",
        "_save_pkl('./file_pkl/padding.pkl', padded)\n",
        "_save_pkl('./file_pkl/labels.pkl', labels)\n",
        "_save_pkl('./file_pkl/dataset.pkl', total)"
      ]
    },
    {
      "cell_type": "markdown",
      "metadata": {},
      "source": [
        "# Bert\n"
      ]
    },
    {
      "cell_type": "code",
      "execution_count": 20,
      "metadata": {},
      "outputs": [],
      "source": [
        "# get attention mask ( 0: not has word, 1: has word)\n",
        "train_mask = np.where(padded == 0, 0, 1)"
      ]
    },
    {
      "cell_type": "markdown",
      "metadata": {},
      "source": [
        "### Chuyển sang tensor"
      ]
    },
    {
      "cell_type": "code",
      "execution_count": 21,
      "metadata": {},
      "outputs": [],
      "source": [
        "train_text = torch.tensor(padded).to(torch.long)\n",
        "train_mask = torch.tensor(train_mask)"
      ]
    },
    {
      "cell_type": "code",
      "execution_count": 26,
      "metadata": {},
      "outputs": [
        {
          "data": {
            "text/html": [
              "<div>\n",
              "<style scoped>\n",
              "    .dataframe tbody tr th:only-of-type {\n",
              "        vertical-align: middle;\n",
              "    }\n",
              "\n",
              "    .dataframe tbody tr th {\n",
              "        vertical-align: top;\n",
              "    }\n",
              "\n",
              "    .dataframe thead th {\n",
              "        text-align: right;\n",
              "    }\n",
              "</style>\n",
              "<table border=\"1\" class=\"dataframe\">\n",
              "  <thead>\n",
              "    <tr style=\"text-align: right;\">\n",
              "      <th></th>\n",
              "      <th>content</th>\n",
              "      <th>rate</th>\n",
              "    </tr>\n",
              "  </thead>\n",
              "  <tbody>\n",
              "    <tr>\n",
              "      <th>33860</th>\n",
              "      <td>hi tikimình mua 2 hộp nhưng 1 hộp bị móp</td>\n",
              "      <td>1</td>\n",
              "    </tr>\n",
              "    <tr>\n",
              "      <th>2756</th>\n",
              "      <td>giao hàng nhanh gói hàng chắc_chắn</td>\n",
              "      <td>0</td>\n",
              "    </tr>\n",
              "    <tr>\n",
              "      <th>19752</th>\n",
              "      <td>không như quảng_cáo tệ quá</td>\n",
              "      <td>1</td>\n",
              "    </tr>\n",
              "    <tr>\n",
              "      <th>47147</th>\n",
              "      <td>hàng đóng_gói cẩn_thận nhưng giao hàng quá lâu 1 đơn hàng hơn tháng mới giao</td>\n",
              "      <td>1</td>\n",
              "    </tr>\n",
              "    <tr>\n",
              "      <th>12055</th>\n",
              "      <td>đóng gói sản_phẩm cẩn_thận</td>\n",
              "      <td>0</td>\n",
              "    </tr>\n",
              "    <tr>\n",
              "      <th>6367</th>\n",
              "      <td>hàng giao đúng ngàyđóng gói kĩ</td>\n",
              "      <td>0</td>\n",
              "    </tr>\n",
              "    <tr>\n",
              "      <th>51382</th>\n",
              "      <td>địa_chỉ giao hàng là hoàng ngọc hoà điện_thoại 0903775802 địa_chỉ 131 điện biên phủ phường 15 qu...</td>\n",
              "      <td>1</td>\n",
              "    </tr>\n",
              "    <tr>\n",
              "      <th>1149</th>\n",
              "      <td>sản_phẩm dùng tốt giá hợp_lý</td>\n",
              "      <td>0</td>\n",
              "    </tr>\n",
              "    <tr>\n",
              "      <th>12387</th>\n",
              "      <td>luc dat hang thi có hang khuyen_mai sao luc giao hang không có hang khuyen mai la sao yeu cau ti...</td>\n",
              "      <td>1</td>\n",
              "    </tr>\n",
              "    <tr>\n",
              "      <th>31986</th>\n",
              "      <td>mua 38 l mà giao 32 l không đúng như đã đặt</td>\n",
              "      <td>1</td>\n",
              "    </tr>\n",
              "    <tr>\n",
              "      <th>7593</th>\n",
              "      <td>sạch tốt bóng mịn</td>\n",
              "      <td>0</td>\n",
              "    </tr>\n",
              "    <tr>\n",
              "      <th>8754</th>\n",
              "      <td>rửa sạch không cần thêm mấy dung_dịch khác</td>\n",
              "      <td>0</td>\n",
              "    </tr>\n",
              "    <tr>\n",
              "      <th>1625</th>\n",
              "      <td>mình chưa bao_giờ mua phải túi bỉm nào bị bẩn như vậy lúc bên giao hàng đến mình thấy bên trong ...</td>\n",
              "      <td>1</td>\n",
              "    </tr>\n",
              "    <tr>\n",
              "      <th>21008</th>\n",
              "      <td>tệ tiki cực_kỳ tệ tệ kinh_khủng</td>\n",
              "      <td>1</td>\n",
              "    </tr>\n",
              "    <tr>\n",
              "      <th>51770</th>\n",
              "      <td>2 tháng mới nhận đuọc hàng</td>\n",
              "      <td>1</td>\n",
              "    </tr>\n",
              "    <tr>\n",
              "      <th>3705</th>\n",
              "      <td>chất_lượng tốt giá hợp_lý giao hàng nhanh nhân_viên giao hàng dễ_thương</td>\n",
              "      <td>0</td>\n",
              "    </tr>\n",
              "    <tr>\n",
              "      <th>4382</th>\n",
              "      <td>sản_phẩm gói okdùng tốttuy_nhiên tạo bọt không nhiều</td>\n",
              "      <td>0</td>\n",
              "    </tr>\n",
              "    <tr>\n",
              "      <th>6777</th>\n",
              "      <td>hàng vận_chuyển nhanh mua đc giá sale nên ưng cực_kỳ</td>\n",
              "      <td>0</td>\n",
              "    </tr>\n",
              "    <tr>\n",
              "      <th>1732</th>\n",
              "      <td>giao hàng chậm quá tệ chả biết nói gì thêm</td>\n",
              "      <td>1</td>\n",
              "    </tr>\n",
              "    <tr>\n",
              "      <th>12383</th>\n",
              "      <td>đóng gói sản_phẩm cẩn_thận dịch nên giao hàng chậm sản_phẩm chất_lượng</td>\n",
              "      <td>0</td>\n",
              "    </tr>\n",
              "  </tbody>\n",
              "</table>\n",
              "</div>"
            ],
            "text/plain": [
              "                                                                                                   content  \\\n",
              "33860                                                             hi tikimình mua 2 hộp nhưng 1 hộp bị móp   \n",
              "2756                                                                    giao hàng nhanh gói hàng chắc_chắn   \n",
              "19752                                                                           không như quảng_cáo tệ quá   \n",
              "47147                         hàng đóng_gói cẩn_thận nhưng giao hàng quá lâu 1 đơn hàng hơn tháng mới giao   \n",
              "12055                                                                           đóng gói sản_phẩm cẩn_thận   \n",
              "6367                                                                        hàng giao đúng ngàyđóng gói kĩ   \n",
              "51382  địa_chỉ giao hàng là hoàng ngọc hoà điện_thoại 0903775802 địa_chỉ 131 điện biên phủ phường 15 qu...   \n",
              "1149                                                                          sản_phẩm dùng tốt giá hợp_lý   \n",
              "12387  luc dat hang thi có hang khuyen_mai sao luc giao hang không có hang khuyen mai la sao yeu cau ti...   \n",
              "31986                                                          mua 38 l mà giao 32 l không đúng như đã đặt   \n",
              "7593                                                                                     sạch tốt bóng mịn   \n",
              "8754                                                            rửa sạch không cần thêm mấy dung_dịch khác   \n",
              "1625   mình chưa bao_giờ mua phải túi bỉm nào bị bẩn như vậy lúc bên giao hàng đến mình thấy bên trong ...   \n",
              "21008                                                                      tệ tiki cực_kỳ tệ tệ kinh_khủng   \n",
              "51770                                                                           2 tháng mới nhận đuọc hàng   \n",
              "3705                               chất_lượng tốt giá hợp_lý giao hàng nhanh nhân_viên giao hàng dễ_thương   \n",
              "4382                                                  sản_phẩm gói okdùng tốttuy_nhiên tạo bọt không nhiều   \n",
              "6777                                                  hàng vận_chuyển nhanh mua đc giá sale nên ưng cực_kỳ   \n",
              "1732                                                            giao hàng chậm quá tệ chả biết nói gì thêm   \n",
              "12383                               đóng gói sản_phẩm cẩn_thận dịch nên giao hàng chậm sản_phẩm chất_lượng   \n",
              "\n",
              "       rate  \n",
              "33860     1  \n",
              "2756      0  \n",
              "19752     1  \n",
              "47147     1  \n",
              "12055     0  \n",
              "6367      0  \n",
              "51382     1  \n",
              "1149      0  \n",
              "12387     1  \n",
              "31986     1  \n",
              "7593      0  \n",
              "8754      0  \n",
              "1625      1  \n",
              "21008     1  \n",
              "51770     1  \n",
              "3705      0  \n",
              "4382      0  \n",
              "6777      0  \n",
              "1732      1  \n",
              "12383     0  "
            ]
          },
          "execution_count": 26,
          "metadata": {},
          "output_type": "execute_result"
        }
      ],
      "source": [
        "total.tail(20)"
      ]
    },
    {
      "cell_type": "code",
      "execution_count": 23,
      "metadata": {},
      "outputs": [],
      "source": [
        "# Lấy features dầu ra từ BERT\n",
        "with torch.no_grad():\n",
        "    last_hidden_states = phobert(input_ids= train_text, attention_mask=train_mask)\n",
        "\n",
        "v_features = last_hidden_states[0][:, 0, :].numpy()"
      ]
    },
    {
      "cell_type": "code",
      "execution_count": 24,
      "metadata": {},
      "outputs": [],
      "source": [
        "# Lưu lại các files\n",
        "_save_pkl('./file_pkl/v_features.pkl', v_features)"
      ]
    }
  ],
  "metadata": {
    "accelerator": "GPU",
    "colab": {
      "collapsed_sections": [],
      "name": "TaoTokenizer.ipynb",
      "provenance": [],
      "toc_visible": true
    },
    "interpreter": {
      "hash": "ad2bdc8ecc057115af97d19610ffacc2b4e99fae6737bb82f5d7fb13d2f2c186"
    },
    "kernelspec": {
      "display_name": "Python 3 (ipykernel)",
      "language": "python",
      "name": "python3"
    },
    "language_info": {
      "codemirror_mode": {
        "name": "ipython",
        "version": 3
      },
      "file_extension": ".py",
      "mimetype": "text/x-python",
      "name": "python",
      "nbconvert_exporter": "python",
      "pygments_lexer": "ipython3",
      "version": "3.9.12"
    }
  },
  "nbformat": 4,
  "nbformat_minor": 0
}
