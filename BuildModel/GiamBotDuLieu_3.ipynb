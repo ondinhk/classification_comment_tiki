{
  "cells": [
    {
      "cell_type": "markdown",
      "metadata": {},
      "source": [
        "### Do số lượng dữ liệu khá nhiều, nên cần lọc lại, chỉ lấy các bình luận có nhiều từ -> Để giảm số chiều dữ liệu lại\n",
        "- Giảm bớt dữ liệu \n",
        "- Giảm chiều đầu vào, tức giảm số từ\n",
        "- Tiến hành chuyển token \n",
        "- Trích đặc trưng bằng bert"
      ]
    },
    {
      "cell_type": "markdown",
      "metadata": {},
      "source": [
        "# Import"
      ]
    },
    {
      "cell_type": "code",
      "execution_count": 1,
      "metadata": {
        "colab": {
          "base_uri": "https://localhost:8080/"
        },
        "id": "frS3MrOrIPoN",
        "outputId": "b857705a-3d9b-413a-d2cb-4f07203b24ee"
      },
      "outputs": [],
      "source": [
        "import numpy as np\n",
        "import pandas as pd\n",
        "pd.set_option(\"max_colwidth\", 100)\n",
        "import matplotlib.pyplot as plt\n"
      ]
    },
    {
      "cell_type": "markdown",
      "metadata": {},
      "source": [
        "# Định nghĩa các biến\n",
        "- max_len là chiều dài của input, dùng ở padding, tức mỗi câu phải có tối thiểu 20 ký tự, giả sử câu có 4 ký tự thì các số 0 sẽ được thêm vào cho đủ\n",
        "- max_data_good tức số lượng bình luận tích cực được lấy\n",
        "- max_data_bad tức số lượng bình luận tiêu cực\n",
        "- min_words dùng để lọc lại các comment có 4 từ trở lên\n",
        "- Do PhoBert trích đặc trưng ra khá lớn 768 chiều đc trích xuất cho mỗi câu, nên dung lượng Ram ko đủ đáp ứng, vì vậy phải giảm bớt số lượng dữ liệu "
      ]
    },
    {
      "cell_type": "code",
      "execution_count": 2,
      "metadata": {},
      "outputs": [],
      "source": [
        "# Max lenght vector\n",
        "max_len = 20\n",
        "# len dataset\n",
        "max_data_good = 8000\n",
        "max_data_bad = 6000\n",
        "# index user random\n",
        "index = 50\n",
        "# number words\n",
        "min_words = 4"
      ]
    },
    {
      "cell_type": "markdown",
      "metadata": {
        "id": "CQtPzIM9IPoP"
      },
      "source": [
        "# Load file"
      ]
    },
    {
      "cell_type": "code",
      "execution_count": 3,
      "metadata": {
        "id": "oz02RGR3IPoQ"
      },
      "outputs": [],
      "source": [
        "path_file = \"./data/non_stop_word(3).json\"\n",
        "df = pd.read_json(path_file)"
      ]
    },
    {
      "cell_type": "markdown",
      "metadata": {},
      "source": [
        "# Số lượng bình luận theo rate"
      ]
    },
    {
      "cell_type": "code",
      "execution_count": 4,
      "metadata": {},
      "outputs": [
        {
          "name": "stdout",
          "output_type": "stream",
          "text": [
            "1652191\n",
            "306361\n"
          ]
        }
      ],
      "source": [
        "print(len(df[df['rate']==0]))\n",
        "print(len(df[df['rate']==1]))"
      ]
    },
    {
      "cell_type": "markdown",
      "metadata": {},
      "source": [
        "# Lọc bình luận tích cực\n",
        "- Giảm bớt số lượng bình luận tích cực, bằng cách chỉ giữ lại nhừng bình luận có trên n từ trở lên"
      ]
    },
    {
      "cell_type": "code",
      "execution_count": 5,
      "metadata": {},
      "outputs": [
        {
          "name": "stderr",
          "output_type": "stream",
          "text": [
            "C:\\Users\\OnKhang\\AppData\\Local\\Temp\\ipykernel_5516\\3547707240.py:8: SettingWithCopyWarning: \n",
            "A value is trying to be set on a copy of a slice from a DataFrame.\n",
            "Try using .loc[row_indexer,col_indexer] = value instead\n",
            "\n",
            "See the caveats in the documentation: https://pandas.pydata.org/pandas-docs/stable/user_guide/indexing.html#returning-a-view-versus-a-copy\n",
            "  df_good['content'] = df_good['content'].apply(lambda x: x.replace(\n"
          ]
        }
      ],
      "source": [
        "df_good = df[df['rate']==0]\n",
        "def zero(text):\n",
        "    arr = text.split()\n",
        "    if (len(arr) >= min_words):\n",
        "        return text\n",
        "    else:\n",
        "        return str('non')\n",
        "df_good['content'] = df_good['content'].apply(lambda x: x.replace(\n",
        "    str(x), zero(x)))"
      ]
    },
    {
      "cell_type": "markdown",
      "metadata": {},
      "source": [
        "#### Số bình luận ít hơn max_words từ"
      ]
    },
    {
      "cell_type": "code",
      "execution_count": 6,
      "metadata": {},
      "outputs": [
        {
          "data": {
            "text/plain": [
              "526628"
            ]
          },
          "execution_count": 6,
          "metadata": {},
          "output_type": "execute_result"
        }
      ],
      "source": [
        "len(df_good[df_good['content']==\"non\"])"
      ]
    },
    {
      "cell_type": "markdown",
      "metadata": {},
      "source": [
        "#### Số bình luận còn lại sau khi lọc"
      ]
    },
    {
      "cell_type": "code",
      "execution_count": 7,
      "metadata": {},
      "outputs": [
        {
          "data": {
            "text/plain": [
              "1125563"
            ]
          },
          "execution_count": 7,
          "metadata": {},
          "output_type": "execute_result"
        }
      ],
      "source": [
        "df_good_new = df_good[df_good['content'] != \"non\"]\n",
        "len(df_good_new)"
      ]
    },
    {
      "cell_type": "markdown",
      "metadata": {},
      "source": [
        "# Lọc bình luận tiêu cực\n",
        "- Làm tương tự như bình luận tích cực"
      ]
    },
    {
      "cell_type": "code",
      "execution_count": 8,
      "metadata": {},
      "outputs": [
        {
          "name": "stderr",
          "output_type": "stream",
          "text": [
            "C:\\Users\\OnKhang\\AppData\\Local\\Temp\\ipykernel_5516\\2587787443.py:9: SettingWithCopyWarning: \n",
            "A value is trying to be set on a copy of a slice from a DataFrame.\n",
            "Try using .loc[row_indexer,col_indexer] = value instead\n",
            "\n",
            "See the caveats in the documentation: https://pandas.pydata.org/pandas-docs/stable/user_guide/indexing.html#returning-a-view-versus-a-copy\n",
            "  df_bad['content'] = df_bad['content'].apply(lambda x: x.replace(\n"
          ]
        }
      ],
      "source": [
        "df_bad = df[df['rate']==1]\n",
        "def zero(text):\n",
        "    arr = text.split()\n",
        "    if len(arr) >= min_words:\n",
        "        return text\n",
        "    else:\n",
        "        return str('non')\n",
        "\n",
        "df_bad['content'] = df_bad['content'].apply(lambda x: x.replace(\n",
        "    str(x), zero(x)))"
      ]
    },
    {
      "cell_type": "markdown",
      "metadata": {},
      "source": [
        "### Số bình luận ít hơn max_words từ"
      ]
    },
    {
      "cell_type": "code",
      "execution_count": 9,
      "metadata": {},
      "outputs": [
        {
          "name": "stdout",
          "output_type": "stream",
          "text": [
            "9168\n"
          ]
        }
      ],
      "source": [
        "print(len(df_bad[df_bad['content'] == \"non\"]))"
      ]
    },
    {
      "cell_type": "markdown",
      "metadata": {},
      "source": [
        "#### Số bình luận còn lại sau khi lọc"
      ]
    },
    {
      "cell_type": "code",
      "execution_count": 10,
      "metadata": {},
      "outputs": [
        {
          "data": {
            "text/plain": [
              "306361"
            ]
          },
          "execution_count": 10,
          "metadata": {},
          "output_type": "execute_result"
        }
      ],
      "source": [
        "df_bad_new = df_bad[df_bad['content'] != \"non\"]\n",
        "len(df_bad)"
      ]
    },
    {
      "cell_type": "markdown",
      "metadata": {},
      "source": [
        "# Trộn dữ liệu và Gộp 2 bảng lại"
      ]
    },
    {
      "cell_type": "code",
      "execution_count": 11,
      "metadata": {},
      "outputs": [
        {
          "data": {
            "text/html": [
              "<div>\n",
              "<style scoped>\n",
              "    .dataframe tbody tr th:only-of-type {\n",
              "        vertical-align: middle;\n",
              "    }\n",
              "\n",
              "    .dataframe tbody tr th {\n",
              "        vertical-align: top;\n",
              "    }\n",
              "\n",
              "    .dataframe thead th {\n",
              "        text-align: right;\n",
              "    }\n",
              "</style>\n",
              "<table border=\"1\" class=\"dataframe\">\n",
              "  <thead>\n",
              "    <tr style=\"text-align: right;\">\n",
              "      <th></th>\n",
              "      <th>content</th>\n",
              "      <th>rate</th>\n",
              "    </tr>\n",
              "  </thead>\n",
              "  <tbody>\n",
              "    <tr>\n",
              "      <th>2</th>\n",
              "      <td>hàng chất_lượng giá rẻ hơn cửa_hàng nhưng bỉm có mùi hàng chất_lượng giá rẻ hơn cửa_hàng nhưng b...</td>\n",
              "      <td>0</td>\n",
              "    </tr>\n",
              "    <tr>\n",
              "      <th>8</th>\n",
              "      <td>bịch lớn nên dùng rất tiện không phải mua nhiều lần hầu_hết các cửa_hàng_không bán bịch to nên m...</td>\n",
              "      <td>0</td>\n",
              "    </tr>\n",
              "    <tr>\n",
              "      <th>9</th>\n",
              "      <td>mới đặt_hàng chiều muộn hôm trước sáng sớm hôm sau đã nhận được hàng quá nhanh quá bất_ngờ bỉm m...</td>\n",
              "      <td>0</td>\n",
              "    </tr>\n",
              "    <tr>\n",
              "      <th>10</th>\n",
              "      <td>lâu không dùng bobby ( trc trung_thành với bobby 4 năm ) giờ quay lại dùng thấy bỉm mỏng nhg độ ...</td>\n",
              "      <td>0</td>\n",
              "    </tr>\n",
              "    <tr>\n",
              "      <th>12</th>\n",
              "      <td>bỉm dùng tốt tuy_nhiên lớp chống tràn rất cứng mặc có vết lằn cho bé mỏng thấm hút nhanh hợp với...</td>\n",
              "      <td>0</td>\n",
              "    </tr>\n",
              "    <tr>\n",
              "      <th>...</th>\n",
              "      <td>...</td>\n",
              "      <td>...</td>\n",
              "    </tr>\n",
              "    <tr>\n",
              "      <th>1958536</th>\n",
              "      <td>giao hàng nhanh sản_phẩm tốt chất_lượng cao cửa_hàng phục_vụ tốt tiki chế_độ mã giảm_giá tốt</td>\n",
              "      <td>0</td>\n",
              "    </tr>\n",
              "    <tr>\n",
              "      <th>1958538</th>\n",
              "      <td>tranh giao hàng vào lúc nghĩ trưa 12 h</td>\n",
              "      <td>0</td>\n",
              "    </tr>\n",
              "    <tr>\n",
              "      <th>1958539</th>\n",
              "      <td>ổn lâu_dài không biết tn</td>\n",
              "      <td>0</td>\n",
              "    </tr>\n",
              "    <tr>\n",
              "      <th>1958540</th>\n",
              "      <td>quá là nét luôn hình_ảnh như thật luôn</td>\n",
              "      <td>0</td>\n",
              "    </tr>\n",
              "    <tr>\n",
              "      <th>1958541</th>\n",
              "      <td>sản_phẩm tốt cảm_ơn cửa_hàng</td>\n",
              "      <td>0</td>\n",
              "    </tr>\n",
              "  </tbody>\n",
              "</table>\n",
              "<p>1125563 rows × 2 columns</p>\n",
              "</div>"
            ],
            "text/plain": [
              "                                                                                                     content  \\\n",
              "2        hàng chất_lượng giá rẻ hơn cửa_hàng nhưng bỉm có mùi hàng chất_lượng giá rẻ hơn cửa_hàng nhưng b...   \n",
              "8        bịch lớn nên dùng rất tiện không phải mua nhiều lần hầu_hết các cửa_hàng_không bán bịch to nên m...   \n",
              "9        mới đặt_hàng chiều muộn hôm trước sáng sớm hôm sau đã nhận được hàng quá nhanh quá bất_ngờ bỉm m...   \n",
              "10       lâu không dùng bobby ( trc trung_thành với bobby 4 năm ) giờ quay lại dùng thấy bỉm mỏng nhg độ ...   \n",
              "12       bỉm dùng tốt tuy_nhiên lớp chống tràn rất cứng mặc có vết lằn cho bé mỏng thấm hút nhanh hợp với...   \n",
              "...                                                                                                      ...   \n",
              "1958536         giao hàng nhanh sản_phẩm tốt chất_lượng cao cửa_hàng phục_vụ tốt tiki chế_độ mã giảm_giá tốt   \n",
              "1958538                                                               tranh giao hàng vào lúc nghĩ trưa 12 h   \n",
              "1958539                                                                             ổn lâu_dài không biết tn   \n",
              "1958540                                                               quá là nét luôn hình_ảnh như thật luôn   \n",
              "1958541                                                                         sản_phẩm tốt cảm_ơn cửa_hàng   \n",
              "\n",
              "         rate  \n",
              "2           0  \n",
              "8           0  \n",
              "9           0  \n",
              "10          0  \n",
              "12          0  \n",
              "...       ...  \n",
              "1958536     0  \n",
              "1958538     0  \n",
              "1958539     0  \n",
              "1958540     0  \n",
              "1958541     0  \n",
              "\n",
              "[1125563 rows x 2 columns]"
            ]
          },
          "execution_count": 11,
          "metadata": {},
          "output_type": "execute_result"
        }
      ],
      "source": [
        "df_good_new"
      ]
    },
    {
      "cell_type": "code",
      "execution_count": 12,
      "metadata": {},
      "outputs": [
        {
          "data": {
            "text/html": [
              "<div>\n",
              "<style scoped>\n",
              "    .dataframe tbody tr th:only-of-type {\n",
              "        vertical-align: middle;\n",
              "    }\n",
              "\n",
              "    .dataframe tbody tr th {\n",
              "        vertical-align: top;\n",
              "    }\n",
              "\n",
              "    .dataframe thead th {\n",
              "        text-align: right;\n",
              "    }\n",
              "</style>\n",
              "<table border=\"1\" class=\"dataframe\">\n",
              "  <thead>\n",
              "    <tr style=\"text-align: right;\">\n",
              "      <th></th>\n",
              "      <th>content</th>\n",
              "      <th>rate</th>\n",
              "    </tr>\n",
              "  </thead>\n",
              "  <tbody>\n",
              "    <tr>\n",
              "      <th>0</th>\n",
              "      <td>mua bỉm đợt sale 1 tr600k cho 4 bịch bỉm thì bị chia thành 2 đơn do hết hàng đợi vận_chuyển dài ...</td>\n",
              "      <td>1</td>\n",
              "    </tr>\n",
              "    <tr>\n",
              "      <th>1</th>\n",
              "      <td>quá tệ1 về giao hàng với chăm_sóc khách_hàng mình đồng_ý mùa dịch nên giao hàng có_thể chậm_trễ ...</td>\n",
              "      <td>1</td>\n",
              "    </tr>\n",
              "    <tr>\n",
              "      <th>3</th>\n",
              "      <td>chất_lượng bỉm thì tốt mà bên giao hàng và bên hỗ_trợ từ số hotline quá chậm chễ mình đặt 2 bịch...</td>\n",
              "      <td>1</td>\n",
              "    </tr>\n",
              "    <tr>\n",
              "      <th>4</th>\n",
              "      <td>hàng giả mọi người ơi đừng mua vì cái tã này mỏng hơn cái tã mình mua trực_tiếp của bobby luôn m...</td>\n",
              "      <td>1</td>\n",
              "    </tr>\n",
              "    <tr>\n",
              "      <th>5</th>\n",
              "      <td>nhận được hàng vui_lam nhưng có thắc_mắc xiu gia ghi là 816100 nhưng nhận vien giao lai thứ mình...</td>\n",
              "      <td>1</td>\n",
              "    </tr>\n",
              "    <tr>\n",
              "      <th>...</th>\n",
              "      <td>...</td>\n",
              "      <td>...</td>\n",
              "    </tr>\n",
              "    <tr>\n",
              "      <th>1958547</th>\n",
              "      <td>liên_hệ với tôi nhé máy_bay không tìm thấy chỗ để sạc pin</td>\n",
              "      <td>1</td>\n",
              "    </tr>\n",
              "    <tr>\n",
              "      <th>1958548</th>\n",
              "      <td>cửa_hàng cái đầu này cắm tn đăng_ký</td>\n",
              "      <td>1</td>\n",
              "    </tr>\n",
              "    <tr>\n",
              "      <th>1958549</th>\n",
              "      <td>tại_sao giao mình lại thiếu_phụ_kiện máy_ảnh vậy cửa_hàng</td>\n",
              "      <td>1</td>\n",
              "    </tr>\n",
              "    <tr>\n",
              "      <th>1958550</th>\n",
              "      <td>không có hướng_dẫn tiếng việt</td>\n",
              "      <td>1</td>\n",
              "    </tr>\n",
              "    <tr>\n",
              "      <th>1958551</th>\n",
              "      <td>giá đắt sô với thị_trường</td>\n",
              "      <td>1</td>\n",
              "    </tr>\n",
              "  </tbody>\n",
              "</table>\n",
              "<p>297193 rows × 2 columns</p>\n",
              "</div>"
            ],
            "text/plain": [
              "                                                                                                     content  \\\n",
              "0        mua bỉm đợt sale 1 tr600k cho 4 bịch bỉm thì bị chia thành 2 đơn do hết hàng đợi vận_chuyển dài ...   \n",
              "1        quá tệ1 về giao hàng với chăm_sóc khách_hàng mình đồng_ý mùa dịch nên giao hàng có_thể chậm_trễ ...   \n",
              "3        chất_lượng bỉm thì tốt mà bên giao hàng và bên hỗ_trợ từ số hotline quá chậm chễ mình đặt 2 bịch...   \n",
              "4        hàng giả mọi người ơi đừng mua vì cái tã này mỏng hơn cái tã mình mua trực_tiếp của bobby luôn m...   \n",
              "5        nhận được hàng vui_lam nhưng có thắc_mắc xiu gia ghi là 816100 nhưng nhận vien giao lai thứ mình...   \n",
              "...                                                                                                      ...   \n",
              "1958547                                            liên_hệ với tôi nhé máy_bay không tìm thấy chỗ để sạc pin   \n",
              "1958548                                                                  cửa_hàng cái đầu này cắm tn đăng_ký   \n",
              "1958549                                            tại_sao giao mình lại thiếu_phụ_kiện máy_ảnh vậy cửa_hàng   \n",
              "1958550                                                                        không có hướng_dẫn tiếng việt   \n",
              "1958551                                                                            giá đắt sô với thị_trường   \n",
              "\n",
              "         rate  \n",
              "0           1  \n",
              "1           1  \n",
              "3           1  \n",
              "4           1  \n",
              "5           1  \n",
              "...       ...  \n",
              "1958547     1  \n",
              "1958548     1  \n",
              "1958549     1  \n",
              "1958550     1  \n",
              "1958551     1  \n",
              "\n",
              "[297193 rows x 2 columns]"
            ]
          },
          "execution_count": 12,
          "metadata": {},
          "output_type": "execute_result"
        }
      ],
      "source": [
        "df_bad_new"
      ]
    },
    {
      "cell_type": "markdown",
      "metadata": {},
      "source": [
        "### Lấy n bình luận tích cực và m bình luận tiêu cực"
      ]
    },
    {
      "cell_type": "code",
      "execution_count": 13,
      "metadata": {},
      "outputs": [],
      "source": [
        "frame = [df_good_new[:max_data_good], df_bad_new[:max_data_bad]]\n",
        "total = pd.concat(frame)\n",
        "total = total.sample(frac=1)"
      ]
    },
    {
      "cell_type": "code",
      "execution_count": 14,
      "metadata": {},
      "outputs": [
        {
          "data": {
            "text/plain": [
              "(14000, 2)"
            ]
          },
          "execution_count": 14,
          "metadata": {},
          "output_type": "execute_result"
        }
      ],
      "source": [
        "total.shape"
      ]
    },
    {
      "cell_type": "markdown",
      "metadata": {
        "id": "S4EdQ5pfIPoT"
      },
      "source": [
        "# Variable label & content"
      ]
    },
    {
      "cell_type": "code",
      "execution_count": 15,
      "metadata": {
        "colab": {
          "base_uri": "https://localhost:8080/"
        },
        "id": "LyB-zmmyIPoU",
        "outputId": "e2dfba2c-7961-4bff-8915-a5e235f8f654"
      },
      "outputs": [
        {
          "name": "stdout",
          "output_type": "stream",
          "text": [
            "(14000,)\n",
            "(14000,)\n"
          ]
        }
      ],
      "source": [
        "content = total['content']\n",
        "labels = total['rate']\n",
        "print(content.shape)\n",
        "print(labels.shape)\n"
      ]
    },
    {
      "cell_type": "markdown",
      "metadata": {
        "id": "9Us-TkgxIPoU"
      },
      "source": [
        "# Import Bert\n",
        "- Tiến hành đánh index từ bằng phoBert và padding dữ liệu cho dữ liệu có cùng chiều dài"
      ]
    },
    {
      "cell_type": "code",
      "execution_count": 16,
      "metadata": {
        "colab": {
          "base_uri": "https://localhost:8080/"
        },
        "id": "7JfBTz96IPoV",
        "outputId": "9178a9a3-dc41-4cc1-eedc-d01737797b70"
      },
      "outputs": [
        {
          "name": "stderr",
          "output_type": "stream",
          "text": [
            "Some weights of the model checkpoint at vinai/phobert-base were not used when initializing RobertaModel: ['lm_head.decoder.bias', 'lm_head.decoder.weight', 'lm_head.layer_norm.bias', 'lm_head.bias', 'lm_head.dense.weight', 'lm_head.layer_norm.weight', 'lm_head.dense.bias']\n",
            "- This IS expected if you are initializing RobertaModel from the checkpoint of a model trained on another task or with another architecture (e.g. initializing a BertForSequenceClassification model from a BertForPreTraining model).\n",
            "- This IS NOT expected if you are initializing RobertaModel from the checkpoint of a model that you expect to be exactly identical (initializing a BertForSequenceClassification model from a BertForSequenceClassification model).\n",
            "Special tokens have been added in the vocabulary, make sure the associated word embeddings are fine-tuned or trained.\n"
          ]
        }
      ],
      "source": [
        "import torch\n",
        "from transformers import AutoModel, AutoTokenizer\n",
        "\n",
        "phobert = AutoModel.from_pretrained(\"vinai/phobert-base\")\n",
        "tokenizer = AutoTokenizer.from_pretrained(\"vinai/phobert-base\")"
      ]
    },
    {
      "cell_type": "markdown",
      "metadata": {
        "id": "SQsCEypWIPoW"
      },
      "source": [
        "#### Tokenized"
      ]
    },
    {
      "cell_type": "code",
      "execution_count": 17,
      "metadata": {
        "colab": {
          "base_uri": "https://localhost:8080/",
          "height": 328
        },
        "id": "bAHHF80qIPoX",
        "outputId": "10455e55-6372-478b-c9d6-55ad45d9c618"
      },
      "outputs": [],
      "source": [
        "tokenized = content.apply(lambda x: tokenizer.encode(\n",
        "    x, max_length=max_len, truncation=True))"
      ]
    },
    {
      "cell_type": "markdown",
      "metadata": {
        "id": "2jllrVPbIPoX"
      },
      "source": [
        "# Padding\n",
        "- Padding để đảm bảo input có độ dài như nhau"
      ]
    },
    {
      "cell_type": "code",
      "execution_count": 18,
      "metadata": {
        "colab": {
          "base_uri": "https://localhost:8080/"
        },
        "id": "hLeJcIluIPoY",
        "outputId": "cfa189f1-3c8b-4a42-e189-5555a2ec2bf5"
      },
      "outputs": [
        {
          "name": "stdout",
          "output_type": "stream",
          "text": [
            "padded: [   0  580 1685 3289  650  574  119 2164 3857    2    0    0    0    0\n",
            "    0    0    0    0    0    0]\n",
            "len padded: (14000, 20)\n"
          ]
        }
      ],
      "source": [
        "padded = np.array([i + [0]*(max_len-len(i)) for i in tokenized.values])\n",
        "print('padded:', padded[index])\n",
        "print('len padded:', padded.shape)"
      ]
    },
    {
      "cell_type": "code",
      "execution_count": 19,
      "metadata": {
        "id": "TKnotzmipwE2"
      },
      "outputs": [],
      "source": [
        "import pickle\n",
        "\n",
        "def _save_pkl(path, obj):\n",
        "  with open(path, 'wb') as f:\n",
        "    pickle.dump(obj, f)\n",
        "\n",
        "\n",
        "# Lưu lại các files\n",
        "_save_pkl('./file_pkl/padding.pkl', padded)\n",
        "_save_pkl('./file_pkl/labels.pkl', labels)\n",
        "_save_pkl('./file_pkl/dataset.pkl', total)"
      ]
    },
    {
      "cell_type": "markdown",
      "metadata": {},
      "source": [
        "### Mask\n",
        "- Đánh dấu các từ được thêm vào, 1 là có từ, còn 0 thì bỏ qua\n",
        "- Giúp mô hình bỏ qua các từ đc thêm vào ở padding\n",
        "- Padding đc tạo để cho các input có số lượng đầu vào các từ bằng nhau\n"
      ]
    },
    {
      "cell_type": "code",
      "execution_count": 20,
      "metadata": {},
      "outputs": [],
      "source": [
        "# get attention mask ( 0: not has word, 1: has word)\n",
        "train_mask = np.where(padded == 0, 0, 1)"
      ]
    },
    {
      "cell_type": "markdown",
      "metadata": {},
      "source": [
        "### Chuyển sang tensor\n",
        "- Mô hình bert làm việc với dữ liệu dạng tensor nên phải chuyển về"
      ]
    },
    {
      "cell_type": "code",
      "execution_count": 21,
      "metadata": {},
      "outputs": [],
      "source": [
        "train_text = torch.tensor(padded).to(torch.long)\n",
        "train_mask = torch.tensor(train_mask)"
      ]
    },
    {
      "cell_type": "code",
      "execution_count": 27,
      "metadata": {},
      "outputs": [
        {
          "data": {
            "text/html": [
              "<div>\n",
              "<style scoped>\n",
              "    .dataframe tbody tr th:only-of-type {\n",
              "        vertical-align: middle;\n",
              "    }\n",
              "\n",
              "    .dataframe tbody tr th {\n",
              "        vertical-align: top;\n",
              "    }\n",
              "\n",
              "    .dataframe thead th {\n",
              "        text-align: right;\n",
              "    }\n",
              "</style>\n",
              "<table border=\"1\" class=\"dataframe\">\n",
              "  <thead>\n",
              "    <tr style=\"text-align: right;\">\n",
              "      <th></th>\n",
              "      <th>content</th>\n",
              "      <th>rate</th>\n",
              "    </tr>\n",
              "  </thead>\n",
              "  <tbody>\n",
              "    <tr>\n",
              "      <th>33860</th>\n",
              "      <td>hi tikimình mua 2 hộp nhưng 1 hộp bị móp</td>\n",
              "      <td>1</td>\n",
              "    </tr>\n",
              "    <tr>\n",
              "      <th>2756</th>\n",
              "      <td>giao hàng nhanh gói hàng chắc_chắn</td>\n",
              "      <td>0</td>\n",
              "    </tr>\n",
              "    <tr>\n",
              "      <th>19752</th>\n",
              "      <td>không như quảng_cáo tệ quá</td>\n",
              "      <td>1</td>\n",
              "    </tr>\n",
              "    <tr>\n",
              "      <th>47147</th>\n",
              "      <td>hàng đóng_gói cẩn_thận nhưng giao hàng quá lâu 1 đơn hàng hơn tháng mới giao</td>\n",
              "      <td>1</td>\n",
              "    </tr>\n",
              "    <tr>\n",
              "      <th>12055</th>\n",
              "      <td>đóng gói sản_phẩm cẩn_thận</td>\n",
              "      <td>0</td>\n",
              "    </tr>\n",
              "    <tr>\n",
              "      <th>6367</th>\n",
              "      <td>hàng giao đúng ngàyđóng gói kĩ</td>\n",
              "      <td>0</td>\n",
              "    </tr>\n",
              "    <tr>\n",
              "      <th>51382</th>\n",
              "      <td>địa_chỉ giao hàng là hoàng ngọc hoà điện_thoại 0903775802 địa_chỉ 131 điện biên phủ phường 15 qu...</td>\n",
              "      <td>1</td>\n",
              "    </tr>\n",
              "    <tr>\n",
              "      <th>1149</th>\n",
              "      <td>sản_phẩm dùng tốt giá hợp_lý</td>\n",
              "      <td>0</td>\n",
              "    </tr>\n",
              "    <tr>\n",
              "      <th>12387</th>\n",
              "      <td>luc dat hang thi có hang khuyen_mai sao luc giao hang không có hang khuyen mai la sao yeu cau ti...</td>\n",
              "      <td>1</td>\n",
              "    </tr>\n",
              "    <tr>\n",
              "      <th>31986</th>\n",
              "      <td>mua 38 l mà giao 32 l không đúng như đã đặt</td>\n",
              "      <td>1</td>\n",
              "    </tr>\n",
              "    <tr>\n",
              "      <th>7593</th>\n",
              "      <td>sạch tốt bóng mịn</td>\n",
              "      <td>0</td>\n",
              "    </tr>\n",
              "    <tr>\n",
              "      <th>8754</th>\n",
              "      <td>rửa sạch không cần thêm mấy dung_dịch khác</td>\n",
              "      <td>0</td>\n",
              "    </tr>\n",
              "    <tr>\n",
              "      <th>1625</th>\n",
              "      <td>mình chưa bao_giờ mua phải túi bỉm nào bị bẩn như vậy lúc bên giao hàng đến mình thấy bên trong ...</td>\n",
              "      <td>1</td>\n",
              "    </tr>\n",
              "    <tr>\n",
              "      <th>21008</th>\n",
              "      <td>tệ tiki cực_kỳ tệ tệ kinh_khủng</td>\n",
              "      <td>1</td>\n",
              "    </tr>\n",
              "    <tr>\n",
              "      <th>51770</th>\n",
              "      <td>2 tháng mới nhận đuọc hàng</td>\n",
              "      <td>1</td>\n",
              "    </tr>\n",
              "    <tr>\n",
              "      <th>3705</th>\n",
              "      <td>chất_lượng tốt giá hợp_lý giao hàng nhanh nhân_viên giao hàng dễ_thương</td>\n",
              "      <td>0</td>\n",
              "    </tr>\n",
              "    <tr>\n",
              "      <th>4382</th>\n",
              "      <td>sản_phẩm gói okdùng tốttuy_nhiên tạo bọt không nhiều</td>\n",
              "      <td>0</td>\n",
              "    </tr>\n",
              "    <tr>\n",
              "      <th>6777</th>\n",
              "      <td>hàng vận_chuyển nhanh mua đc giá sale nên ưng cực_kỳ</td>\n",
              "      <td>0</td>\n",
              "    </tr>\n",
              "    <tr>\n",
              "      <th>1732</th>\n",
              "      <td>giao hàng chậm quá tệ chả biết nói gì thêm</td>\n",
              "      <td>1</td>\n",
              "    </tr>\n",
              "    <tr>\n",
              "      <th>12383</th>\n",
              "      <td>đóng gói sản_phẩm cẩn_thận dịch nên giao hàng chậm sản_phẩm chất_lượng</td>\n",
              "      <td>0</td>\n",
              "    </tr>\n",
              "  </tbody>\n",
              "</table>\n",
              "</div>"
            ],
            "text/plain": [
              "                                                                                                   content  \\\n",
              "33860                                                             hi tikimình mua 2 hộp nhưng 1 hộp bị móp   \n",
              "2756                                                                    giao hàng nhanh gói hàng chắc_chắn   \n",
              "19752                                                                           không như quảng_cáo tệ quá   \n",
              "47147                         hàng đóng_gói cẩn_thận nhưng giao hàng quá lâu 1 đơn hàng hơn tháng mới giao   \n",
              "12055                                                                           đóng gói sản_phẩm cẩn_thận   \n",
              "6367                                                                        hàng giao đúng ngàyđóng gói kĩ   \n",
              "51382  địa_chỉ giao hàng là hoàng ngọc hoà điện_thoại 0903775802 địa_chỉ 131 điện biên phủ phường 15 qu...   \n",
              "1149                                                                          sản_phẩm dùng tốt giá hợp_lý   \n",
              "12387  luc dat hang thi có hang khuyen_mai sao luc giao hang không có hang khuyen mai la sao yeu cau ti...   \n",
              "31986                                                          mua 38 l mà giao 32 l không đúng như đã đặt   \n",
              "7593                                                                                     sạch tốt bóng mịn   \n",
              "8754                                                            rửa sạch không cần thêm mấy dung_dịch khác   \n",
              "1625   mình chưa bao_giờ mua phải túi bỉm nào bị bẩn như vậy lúc bên giao hàng đến mình thấy bên trong ...   \n",
              "21008                                                                      tệ tiki cực_kỳ tệ tệ kinh_khủng   \n",
              "51770                                                                           2 tháng mới nhận đuọc hàng   \n",
              "3705                               chất_lượng tốt giá hợp_lý giao hàng nhanh nhân_viên giao hàng dễ_thương   \n",
              "4382                                                  sản_phẩm gói okdùng tốttuy_nhiên tạo bọt không nhiều   \n",
              "6777                                                  hàng vận_chuyển nhanh mua đc giá sale nên ưng cực_kỳ   \n",
              "1732                                                            giao hàng chậm quá tệ chả biết nói gì thêm   \n",
              "12383                               đóng gói sản_phẩm cẩn_thận dịch nên giao hàng chậm sản_phẩm chất_lượng   \n",
              "\n",
              "       rate  \n",
              "33860     1  \n",
              "2756      0  \n",
              "19752     1  \n",
              "47147     1  \n",
              "12055     0  \n",
              "6367      0  \n",
              "51382     1  \n",
              "1149      0  \n",
              "12387     1  \n",
              "31986     1  \n",
              "7593      0  \n",
              "8754      0  \n",
              "1625      1  \n",
              "21008     1  \n",
              "51770     1  \n",
              "3705      0  \n",
              "4382      0  \n",
              "6777      0  \n",
              "1732      1  \n",
              "12383     0  "
            ]
          },
          "execution_count": 27,
          "metadata": {},
          "output_type": "execute_result"
        }
      ],
      "source": [
        "# Check tập dữ liệu\n",
        "total.tail(20)"
      ]
    },
    {
      "cell_type": "markdown",
      "metadata": {},
      "source": [
        "### Trích xuất đặc trưng và lưu vào file "
      ]
    },
    {
      "cell_type": "code",
      "execution_count": 23,
      "metadata": {},
      "outputs": [],
      "source": [
        "# Lấy features dầu ra từ BERT\n",
        "with torch.no_grad():\n",
        "    last_hidden_states = phobert(input_ids= train_text, attention_mask=train_mask)\n",
        "\n",
        "v_features = last_hidden_states[0][:, 0, :].numpy()"
      ]
    },
    {
      "cell_type": "code",
      "execution_count": 28,
      "metadata": {},
      "outputs": [
        {
          "data": {
            "text/plain": [
              "array([ 5.47165692e-01,  4.98807400e-01, -2.56964386e-01, -5.67711771e-01,\n",
              "       -3.43030751e-01,  1.11693287e+00,  1.49377823e-01, -8.72437656e-01,\n",
              "       -4.16315287e-01, -3.21063995e-01, -1.43329561e-01,  4.18511897e-01,\n",
              "        1.89061403e-01,  1.21900767e-01, -5.41892350e-01, -1.98609978e-01,\n",
              "       -1.68168291e-01,  1.84009314e-01, -1.23336688e-01,  2.24088103e-01,\n",
              "        5.68099320e-03, -3.66659574e-02,  3.63412678e-01,  3.09004605e-01,\n",
              "       -4.87409174e-01,  1.18755043e-01,  2.57364213e-01,  5.20214677e-01,\n",
              "        4.41081405e-01, -2.34995604e-01, -3.01159471e-01,  4.70894933e-01,\n",
              "        5.88273644e-01,  1.25807121e-01, -1.24412954e-01, -7.31444806e-02,\n",
              "       -2.30305821e-01, -8.61031413e-02, -3.48356962e-02,  3.31719249e-01,\n",
              "        1.23757616e-01,  4.28979397e-02, -2.94322580e-01, -1.40252143e-01,\n",
              "        7.20985770e-01,  2.74496615e-01, -1.31095409e-01, -5.58155417e-01,\n",
              "       -1.98988616e-01, -2.13066936e-02,  4.31698471e-01,  1.66676730e-01,\n",
              "       -5.23333907e-01,  1.72498733e-01,  3.67672831e-01, -2.65934885e-01,\n",
              "        6.95554912e-02,  2.86176145e-01,  4.39561278e-01,  2.29075968e-01,\n",
              "        9.60315168e-02,  2.81236589e-01, -4.99191403e-01, -6.58120811e-02,\n",
              "        9.12107527e-02,  8.12017396e-02,  5.64560667e-02, -1.89831555e-01,\n",
              "       -8.75648707e-02, -3.45771760e-03,  4.14467543e-01,  1.69383526e-01,\n",
              "       -9.09949690e-02, -3.33665729e-01, -2.77585119e-01,  2.42821231e-01,\n",
              "        1.87161043e-01,  2.41645306e-01, -7.80674368e-02,  4.87740606e-01,\n",
              "       -5.65285623e-01,  1.58268675e-01,  2.76556388e-02,  3.02360713e-01,\n",
              "       -4.65697825e-01,  7.47533143e-02, -2.33805001e-01, -1.42385036e-01,\n",
              "        2.95054764e-01,  2.45144665e-01, -2.23924160e-01,  2.11155459e-01,\n",
              "        5.95759600e-04, -2.28468955e-01, -7.05863059e-01, -2.30919868e-02,\n",
              "        7.28103891e-02, -3.40354055e-01,  1.75194532e-01,  3.88650566e-01,\n",
              "       -2.95027912e-01,  4.39199835e-01, -2.66321152e-01, -3.36132407e-01,\n",
              "       -4.44449872e-01,  2.99659699e-01, -1.06552318e-01,  3.85526180e-01,\n",
              "        4.46221530e-02,  3.84044349e-01, -1.20737880e-01, -1.85245946e-02,\n",
              "        4.20696974e-01,  5.05487211e-02,  2.25244462e-01, -4.72674966e-01,\n",
              "        3.96043807e-03,  1.95272937e-01,  3.59568268e-01,  2.98734725e-01,\n",
              "        1.12873234e-01,  2.68048793e-02, -7.83928990e-01,  2.75794178e-01,\n",
              "        3.50689888e-03, -1.08439401e-02,  7.52716213e-02,  3.46368879e-01,\n",
              "       -9.17977810e-01, -3.09394181e-01, -5.22956014e-01,  2.76461035e-01,\n",
              "        3.54878962e-01,  9.99045074e-02, -7.66546130e-02,  2.90643990e-01,\n",
              "       -2.10386276e-01, -2.88858742e-01, -3.02349299e-01, -3.23673368e-01,\n",
              "        1.27725327e+00,  2.42419168e-01,  5.95337376e-02,  5.10708928e-01,\n",
              "        1.88961670e-01,  1.83304638e-01,  5.86327493e-01, -2.59550482e-01,\n",
              "       -2.65077800e-01,  3.13018560e-01,  5.96559346e-01, -3.80057275e-01,\n",
              "        6.33166790e-01, -2.63209045e-02, -2.78386921e-01, -4.50942218e-02,\n",
              "        4.10141855e-01, -6.14791438e-02,  2.77375698e-01,  5.49259633e-02,\n",
              "       -2.26501912e-01,  2.51843691e-01, -5.74125201e-02,  2.20802397e-01,\n",
              "        1.19972646e-01,  3.36371154e-01,  6.49069482e-03,  4.89501059e-02,\n",
              "       -3.54528308e-01, -2.38575727e-01,  7.29038641e-02, -1.36963397e-01,\n",
              "        3.74240205e-02, -8.63227546e-02,  1.16982734e+00, -5.75410351e-02,\n",
              "        4.34079349e-01, -4.92549203e-02,  2.64752924e-01, -3.80437493e-01,\n",
              "        1.22717202e-01, -1.69701785e-01,  5.15881181e-01, -4.19111013e-01,\n",
              "        2.33195126e-01,  6.01501018e-02, -2.34470740e-01, -1.18649781e-01,\n",
              "        1.48424953e-01,  5.48348427e-02,  4.38301980e-01,  2.54897684e-01,\n",
              "       -4.17020917e-01,  1.99680120e-01,  3.35245997e-01, -4.18660969e-01,\n",
              "       -6.28830612e-01, -5.66307902e-02, -2.85894692e-01, -3.69500816e-01,\n",
              "        1.72834665e-01, -5.19122481e-02, -4.24941182e-02, -5.96759140e-01,\n",
              "       -3.41927230e-01, -5.64323291e-02, -4.70937788e-02, -4.47201550e-01,\n",
              "        3.22264194e-01,  8.11467171e-02, -7.86546171e-02, -3.20855379e-01,\n",
              "        6.41908228e-01, -4.00701433e-01,  9.02731717e-02, -1.37169912e-01,\n",
              "       -8.88969377e-02, -5.97121000e-01, -1.21109210e-01, -1.34023726e-01,\n",
              "       -1.04996073e+00, -5.51621437e-01, -4.02475774e-01, -1.49853915e-01,\n",
              "       -2.63410062e-01, -8.71764004e-01,  3.25302243e-01, -7.79982656e-02,\n",
              "        1.50581419e-01, -3.45826745e-01, -2.18867138e-01,  4.97407243e-02,\n",
              "        1.21445790e-01,  5.36702275e-01,  3.45776081e-01,  1.15444548e-01,\n",
              "       -2.06398904e-01,  3.06140125e-01,  2.44674921e-01,  2.17535719e-01,\n",
              "        5.73508024e-01, -1.65834576e-01,  7.43678808e-02, -1.92026868e-01,\n",
              "       -3.87886614e-01, -4.60617661e-01, -3.34300607e-01,  4.17258978e-01,\n",
              "       -1.02253795e+00, -4.53501850e-01,  2.14955628e-01,  4.26976010e-02,\n",
              "        8.16018701e-01, -7.59662595e-03, -6.69915974e-02, -1.89272895e-01,\n",
              "        5.71486294e-01,  7.53304064e-01, -4.19712029e-02,  6.04037493e-02,\n",
              "       -7.16522932e-02, -4.93572623e-01,  1.86607629e-01,  4.19424415e-01,\n",
              "       -7.01567769e-01, -6.55354381e-01,  3.80861104e-01, -5.58408946e-02,\n",
              "       -1.10606514e-02,  1.73125744e-01,  1.52509496e-01,  6.14321887e-01,\n",
              "        5.76825380e-01,  5.17772257e-01, -1.86842471e-01, -5.81338465e-01,\n",
              "       -8.70438218e-02,  8.79422426e-01,  2.55926996e-02,  1.99068449e-02,\n",
              "        3.53858143e-01,  1.32779181e-01,  4.51774061e-01, -5.64499617e-01,\n",
              "       -2.36693054e-01,  4.86846477e-01, -5.38556039e-01, -8.52163434e-02,\n",
              "       -3.14135969e-01, -1.34854347e-01, -7.48196781e-01,  1.97571754e-01,\n",
              "       -6.13900781e-01,  1.62118703e-01, -5.72903872e-01, -2.58812517e-01,\n",
              "       -2.11561114e-01, -7.73533225e-01, -4.46942449e-01, -5.51144928e-02,\n",
              "       -2.85923015e-02, -2.75225818e-01,  2.06927583e-01, -8.23786259e-02,\n",
              "       -1.99936599e-01,  3.57946634e-01,  2.14589834e-01, -2.26923227e-01,\n",
              "       -1.96189880e-02, -1.32787138e-01, -1.86611116e-01,  4.59349155e-01,\n",
              "       -2.06210494e-01,  2.91946352e-01,  1.13901138e-01,  2.54218817e-01,\n",
              "        3.67504835e-01, -6.00480616e-01,  2.68726666e-02,  3.23824883e-01,\n",
              "        2.98211664e-01, -1.38152167e-01, -2.92895436e-01, -4.80281025e-01,\n",
              "        1.36455074e-01,  1.04456402e-01, -5.78495085e-01,  3.05470347e-01,\n",
              "       -1.34948060e-01,  8.03742051e-01, -3.47109467e-01,  5.64331889e-01,\n",
              "        4.33293194e-01,  2.63626486e-01, -2.05999434e-01, -4.89122123e-01,\n",
              "       -1.64941728e-01,  2.53558576e-01, -9.10136580e-01,  7.54001886e-02,\n",
              "        1.31195337e-01,  4.20473963e-01, -1.49433464e-01, -5.12168705e-02,\n",
              "       -3.27730238e-01, -4.85548675e-01,  2.46574283e-01, -6.37406111e-03,\n",
              "       -7.69551873e-01, -1.71258245e-02, -1.39865354e-01,  8.78642872e-02,\n",
              "        5.95015213e-02,  2.69231379e-01, -1.14474177e-01, -3.30539465e-01,\n",
              "        4.79489774e-01, -5.06460592e-02, -1.13847226e-01,  4.67563450e-01,\n",
              "        8.23677421e-01,  2.24051848e-01, -1.75752640e-01, -3.90621692e-01,\n",
              "       -2.25806922e-01,  2.70319860e-02, -2.84170449e-01,  1.53150690e+00,\n",
              "       -3.43387946e-03,  3.04112464e-01,  1.26095757e-01,  3.20713013e-01,\n",
              "        3.13032120e-01, -3.89563680e-01,  2.49439597e-01, -3.54866758e-02,\n",
              "        1.19034432e-01,  3.25938076e-01, -3.22880745e-01,  3.76548141e-01,\n",
              "       -3.59449357e-01,  1.91430561e-02,  4.85104114e-01,  1.27412364e-01,\n",
              "       -1.35016739e-02,  2.32112892e-02, -3.71984214e-01, -1.80123553e-01,\n",
              "       -8.60123336e-02, -2.44910628e-01,  4.43568170e-01,  6.69802785e-01,\n",
              "       -3.27605724e-01,  1.47703901e-01, -1.16940707e-01, -6.56511724e-01,\n",
              "        2.78054148e-01, -3.03772688e-01, -3.28616381e-01,  3.97526056e-01,\n",
              "       -1.85630232e-01, -1.14177987e-02,  1.43724114e-01,  3.72969449e-01,\n",
              "        3.61649245e-01,  8.05285454e-01, -1.55427784e-01, -4.12047774e-01,\n",
              "        2.65090406e-01, -7.50925660e-01,  1.33480325e-01, -7.48769939e-03,\n",
              "        2.99957991e-01,  2.13126868e-01,  2.46156484e-01, -9.08612460e-02,\n",
              "        8.17818642e-02, -1.77941471e-01,  1.17226076e+00,  3.08582723e-01,\n",
              "       -8.86692405e-02, -3.36021692e-01, -6.34195626e-01,  1.72138512e-01,\n",
              "        7.71727711e-02, -2.54240721e-01, -2.00078398e-01, -7.22822696e-02,\n",
              "        2.85112679e-01,  7.81658828e-01, -3.29339430e-02, -2.60582030e-01,\n",
              "        9.55807194e-02, -5.30311704e-01,  6.26849532e-01, -1.33396804e-01,\n",
              "       -3.37566584e-01,  1.78431913e-01,  3.36580575e-01, -6.44669890e-01,\n",
              "       -3.65930617e-01, -1.48189634e-01, -3.97741914e-01,  5.71753621e-01,\n",
              "       -2.34220058e-01, -3.90809655e-01,  6.19640827e-01,  4.66313183e-01,\n",
              "       -5.97706139e-01, -2.95873359e-02,  4.91506010e-02,  9.21324015e-01,\n",
              "       -2.66106367e-01,  2.22980246e-01,  2.18066443e-02, -8.99537683e-01,\n",
              "        4.95341480e-01,  6.83105886e-02,  3.52990061e-01, -3.66991490e-01,\n",
              "        3.41218501e-01,  3.35307360e-01, -1.56446755e-01,  6.75152659e-01,\n",
              "       -4.67461571e-02,  6.11706734e-01,  7.43314147e-01, -1.40153617e-01,\n",
              "       -3.11184555e-01,  2.70878244e-02, -3.26386482e-01, -2.37323493e-02,\n",
              "        2.38939196e-01,  2.94091757e-02, -2.52188630e-02, -1.37454316e-01,\n",
              "        6.39299572e-01,  1.30694211e-01, -8.28531757e-02, -5.44454753e-02,\n",
              "        3.33340019e-01,  9.82513070e-01, -1.19742513e-01, -3.92083406e-01,\n",
              "        4.68072034e-02,  2.46020570e-01, -1.69805735e-01, -1.30774334e-01,\n",
              "        5.74700177e-01,  2.69755423e-01,  1.75435189e-02, -4.99771982e-01,\n",
              "        4.29244697e-01, -1.41511470e-01, -4.24625129e-01,  8.64159822e-01,\n",
              "       -3.22579205e-01,  2.59101450e-01, -4.71613467e-01, -4.91274595e-02,\n",
              "        4.10422742e-01, -3.16714287e-01,  9.21978429e-02,  1.89007014e-01,\n",
              "        9.25759852e-01,  7.29587436e-01,  6.48535788e-01, -4.33890730e-01,\n",
              "        3.20542663e-01, -3.96859385e-02, -3.06663394e-01, -4.42250639e-01,\n",
              "        6.49346530e-01, -1.26136869e-01, -3.05413544e-01, -9.02576670e-02,\n",
              "       -9.16307688e-01,  1.71366289e-01, -6.77245200e-01, -3.13460171e-01,\n",
              "        3.47079396e-01,  6.97944164e-02,  1.34080932e-01, -2.13421181e-01,\n",
              "        2.17366442e-02, -3.98496032e-01,  2.21739672e-02,  2.16072649e-01,\n",
              "       -2.86653072e-01,  1.21239349e-01, -5.69671750e-01,  9.10293698e-01,\n",
              "        2.08749354e-01, -7.49512166e-02,  1.30534959e+00,  4.62135851e-01,\n",
              "       -3.42433155e-03, -3.84635776e-01,  7.08168745e-03, -2.84068733e-01,\n",
              "        9.56711266e-03,  4.67863940e-02,  3.37917149e-01,  6.17605820e-02,\n",
              "       -1.65796936e-01, -5.65317035e-01,  4.64279115e-01,  1.20573378e+00,\n",
              "       -1.36014074e-02, -3.48850638e-01, -1.06583543e-01, -9.68798578e-01,\n",
              "        2.37013251e-01,  2.48451054e-01,  2.03148007e-01,  1.22942641e-01,\n",
              "        4.55677867e-01,  6.86769605e-01, -4.66056764e-02, -8.42310339e-02,\n",
              "        1.74820542e-01,  2.63108045e-01,  5.95972300e-01,  1.19105823e-01,\n",
              "       -6.51496828e-01,  1.14381224e-01,  2.74359494e-01,  6.46308064e-03,\n",
              "        5.49564362e-01,  1.42457008e-01, -2.79504955e-02,  5.51828444e-01,\n",
              "        5.34024298e-01, -9.49734151e-01, -1.22796506e-01, -4.78961885e-01,\n",
              "        7.53803194e-01, -1.99506462e-01,  5.39557263e-02, -3.37913245e-01,\n",
              "        6.77557826e-01,  8.22015107e-02, -4.90079999e-01, -2.29322091e-02,\n",
              "       -8.93720984e-02, -1.61222070e-02,  6.04377985e-01,  2.20174968e-01,\n",
              "       -1.99324667e-01,  4.79629338e-02,  2.38508105e+00,  3.97027344e-01,\n",
              "       -1.94028646e-01, -3.91783975e-02,  6.44671440e-01, -4.84913468e-01,\n",
              "        4.40490991e-01,  6.69636130e-02, -1.15763128e-01,  6.03150129e-02,\n",
              "        1.79283023e-01,  1.72594860e-01, -4.45938170e-01,  9.15555656e-02,\n",
              "       -6.55315891e-02,  1.62068903e-01, -3.92463028e-01,  2.81792432e-02,\n",
              "        3.16702843e-01, -1.41654611e-01, -2.13595822e-01, -5.99398732e-01,\n",
              "       -2.30233908e-01,  1.59516614e-02,  2.23791242e-01, -7.56795883e-01,\n",
              "        9.18084383e-01, -7.67577961e-02,  7.07456827e-01,  4.17337418e-01,\n",
              "       -3.97687227e-01,  4.45175171e-01,  3.88172448e-01,  5.45966387e-01,\n",
              "        1.34175867e-01, -7.11193383e-01, -1.04971550e-01,  5.59306979e-01,\n",
              "       -4.14774753e-03, -7.17618316e-02,  3.59955281e-01, -7.43176103e-01,\n",
              "       -7.64122158e-02,  7.69469202e-01, -3.39804441e-02, -4.46606845e-01,\n",
              "        3.08219433e-01, -1.65549815e-01, -1.18671380e-01,  3.35636318e-01,\n",
              "        2.20452964e-01,  3.67386118e-02, -6.23797625e-03,  1.46782160e-01,\n",
              "       -4.01550829e-02,  5.84235251e-01,  1.00194462e-01, -9.69704241e-02,\n",
              "        1.57157332e-02, -5.85347712e-01,  5.18002987e-01,  7.04855919e-01,\n",
              "        7.02613220e-03, -7.72763416e-02,  8.71204063e-02, -2.50170231e-01,\n",
              "        6.04821146e-01,  2.18896508e-01,  1.78139940e-01,  4.10057753e-01,\n",
              "       -3.49248320e-01, -4.45087373e-01, -6.33189231e-02,  2.27555662e-01,\n",
              "       -7.46631399e-02,  2.07829833e-01, -2.14909077e-01, -1.56239629e-01,\n",
              "        3.75480875e-02,  3.38373154e-01,  3.59212235e-02, -6.40333831e-01,\n",
              "       -4.46257114e-01,  4.86067742e-01, -9.38631147e-02,  5.09534359e-01,\n",
              "        5.79897314e-02,  2.64693409e-01, -2.53285676e-01, -2.69036949e-01,\n",
              "       -1.46257639e-01, -9.92717743e-02, -3.36098224e-02,  6.36059821e-01,\n",
              "        4.99456525e-01,  2.79906467e-02,  9.84921604e-02,  1.69727076e-02,\n",
              "        8.89698029e-01,  6.84962720e-02, -4.09081578e-01,  1.17565461e-01,\n",
              "        9.58200321e-02,  6.72882140e-01,  6.20369613e-02,  8.55239183e-02,\n",
              "       -6.17038786e-01,  5.63808680e-01, -1.86845765e-01,  2.54781306e-01,\n",
              "        4.75813776e-01,  1.38656497e-02,  8.29138160e-01,  6.95646703e-01,\n",
              "        1.09648317e-01, -3.79639208e-01, -4.68026936e-01,  1.65485322e-01,\n",
              "       -2.90130407e-01,  2.79305011e-01,  2.69650221e-01,  1.53058499e-01,\n",
              "        2.42608890e-01, -6.41360998e-01,  7.08031356e-01, -8.05761755e-01,\n",
              "       -5.53238690e-02, -3.94116908e-01, -1.47764593e-01,  1.50834933e-01,\n",
              "        1.35616764e-01, -2.84591354e-02, -1.51154050e-03,  4.14578058e-02,\n",
              "        3.40334512e-02,  3.74573678e-01,  2.10404515e-01,  2.77000189e-01,\n",
              "        4.10913050e-01,  5.57414532e-01,  4.14580584e-01,  3.84410061e-02,\n",
              "        7.73360372e-01, -1.59939170e-01,  2.94188857e-01,  2.73100883e-01,\n",
              "       -6.80020809e-01,  2.16939151e-01, -6.65098965e-01,  1.25132650e-01,\n",
              "        6.77873731e-01,  2.21910067e-02,  6.63177550e-01, -1.99315071e-01,\n",
              "        1.24156177e-01,  5.69855869e-01,  1.45034745e-01, -1.02092493e+00,\n",
              "       -3.19881678e-01, -4.83171083e-03,  4.64813709e-01,  5.13193250e-01,\n",
              "       -5.97621918e-01, -2.05709547e-01,  8.90840143e-02,  4.52923089e-01,\n",
              "       -3.65061820e-01, -1.65923953e-01,  1.00458656e-02,  2.79187053e-01,\n",
              "       -4.85114217e-01,  3.17059755e-01, -1.93439826e-01,  2.72951066e-01,\n",
              "        2.02164412e-01, -4.59232211e-01, -2.54945308e-01,  1.81211025e-01],\n",
              "      dtype=float32)"
            ]
          },
          "execution_count": 28,
          "metadata": {},
          "output_type": "execute_result"
        }
      ],
      "source": [
        "v_features[0]"
      ]
    },
    {
      "cell_type": "code",
      "execution_count": 29,
      "metadata": {},
      "outputs": [
        {
          "data": {
            "text/plain": [
              "(768,)"
            ]
          },
          "execution_count": 29,
          "metadata": {},
          "output_type": "execute_result"
        }
      ],
      "source": [
        "v_features[0].shape"
      ]
    },
    {
      "cell_type": "code",
      "execution_count": 24,
      "metadata": {},
      "outputs": [],
      "source": [
        "# Lưu lại các files\n",
        "_save_pkl('./file_pkl/v_features.pkl', v_features)"
      ]
    }
  ],
  "metadata": {
    "accelerator": "GPU",
    "colab": {
      "collapsed_sections": [],
      "name": "TaoTokenizer.ipynb",
      "provenance": [],
      "toc_visible": true
    },
    "interpreter": {
      "hash": "ad2bdc8ecc057115af97d19610ffacc2b4e99fae6737bb82f5d7fb13d2f2c186"
    },
    "kernelspec": {
      "display_name": "Python 3 (ipykernel)",
      "language": "python",
      "name": "python3"
    },
    "language_info": {
      "codemirror_mode": {
        "name": "ipython",
        "version": 3
      },
      "file_extension": ".py",
      "mimetype": "text/x-python",
      "name": "python",
      "nbconvert_exporter": "python",
      "pygments_lexer": "ipython3",
      "version": "3.9.12"
    }
  },
  "nbformat": 4,
  "nbformat_minor": 0
}
