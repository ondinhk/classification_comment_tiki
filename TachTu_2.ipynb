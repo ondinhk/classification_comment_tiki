{
 "cells": [
  {
   "cell_type": "markdown",
   "metadata": {},
   "source": [
    "Loại bỏ ký tự đặc biệt, tách từ đơn từ ghép"
   ]
  },
  {
   "cell_type": "markdown",
   "metadata": {},
   "source": [
    "# Import"
   ]
  },
  {
   "cell_type": "code",
   "execution_count": 1,
   "metadata": {},
   "outputs": [],
   "source": [
    "import pandas as pd\n",
    "import re\n",
    "pd.set_option(\"max_colwidth\", 200)"
   ]
  },
  {
   "cell_type": "markdown",
   "metadata": {},
   "source": [
    "# Load file"
   ]
  },
  {
   "cell_type": "code",
   "execution_count": 3,
   "metadata": {},
   "outputs": [
    {
     "data": {
      "text/html": [
       "<div>\n",
       "<style scoped>\n",
       "    .dataframe tbody tr th:only-of-type {\n",
       "        vertical-align: middle;\n",
       "    }\n",
       "\n",
       "    .dataframe tbody tr th {\n",
       "        vertical-align: top;\n",
       "    }\n",
       "\n",
       "    .dataframe thead th {\n",
       "        text-align: right;\n",
       "    }\n",
       "</style>\n",
       "<table border=\"1\" class=\"dataframe\">\n",
       "  <thead>\n",
       "    <tr style=\"text-align: right;\">\n",
       "      <th></th>\n",
       "      <th>name</th>\n",
       "      <th>content</th>\n",
       "      <th>rate</th>\n",
       "    </tr>\n",
       "  </thead>\n",
       "  <tbody>\n",
       "    <tr>\n",
       "      <th>0</th>\n",
       "      <td>Nguyễn Giang An</td>\n",
       "      <td>mua bỉm đợt sale 1tr600k cho 4 bịch bỉm, thì bị chia thành 2 đơn do hết hàng. đợi ship dài cả cổ. nhưng cái chính là lúc thêm vào giỏ hàng thấy được tặng xe bập bênh, nhưng 30 giây sau khi thanh t...</td>\n",
       "      <td>1</td>\n",
       "    </tr>\n",
       "    <tr>\n",
       "      <th>1</th>\n",
       "      <td>Ngọc Trâm</td>\n",
       "      <td>Quá tệ.\\n1/ Về giao hàng vs cskh. Mình đồng ý mùa dịch nên giao hàng có thể chậm trễ hơn so với bình thường, nhưng cách chậm trễ và đặc biệt dịch vụ chăm sóc khách hàng quá tệ. Liên hệ phản hồi k ...</td>\n",
       "      <td>1</td>\n",
       "    </tr>\n",
       "    <tr>\n",
       "      <th>2</th>\n",
       "      <td>Hương Minh</td>\n",
       "      <td>Hàng chất lượng. Giá rẻ hơn cửa hàng. Nhưng bỉm có mùi \\n\\nHàng chất lượng. Giá rẻ hơn cửa hàng. Nhưng bỉm có mùi \\n\\nHàng chất lượng. Giá rẻ hơn cửa hàng. Nhưng bỉm có mùi</td>\n",
       "      <td>0</td>\n",
       "    </tr>\n",
       "    <tr>\n",
       "      <th>3</th>\n",
       "      <td>Jany Pham</td>\n",
       "      <td>Chất lượng bỉm thì ok mà bên giao hàng và bên hỗ trợ từ số hotline quá chậm chễ. Mình đặt 2 bịch cho 2 đứa, 1 size XXL, 1 size L. Đến ngày hẹn giao hàng chờ cả ngày ko thấy. Đến tối muộn có nhân v...</td>\n",
       "      <td>1</td>\n",
       "    </tr>\n",
       "    <tr>\n",
       "      <th>4</th>\n",
       "      <td>My Linh</td>\n",
       "      <td>hàng giả mọi người ơi đừng mua . vì cái tã này mỏng hơn cái tã mình mua trực tiếp của bobby luôn.  mọi người cẩn thận nhé . 419k không phải ít tiền vì vậy đừng để mua nhầm như mình.</td>\n",
       "      <td>1</td>\n",
       "    </tr>\n",
       "  </tbody>\n",
       "</table>\n",
       "</div>"
      ],
      "text/plain": [
       "              name  \\\n",
       "0  Nguyễn Giang An   \n",
       "1        Ngọc Trâm   \n",
       "2       Hương Minh   \n",
       "3        Jany Pham   \n",
       "4          My Linh   \n",
       "\n",
       "                                                                                                                                                                                                   content  \\\n",
       "0  mua bỉm đợt sale 1tr600k cho 4 bịch bỉm, thì bị chia thành 2 đơn do hết hàng. đợi ship dài cả cổ. nhưng cái chính là lúc thêm vào giỏ hàng thấy được tặng xe bập bênh, nhưng 30 giây sau khi thanh t...   \n",
       "1  Quá tệ.\\n1/ Về giao hàng vs cskh. Mình đồng ý mùa dịch nên giao hàng có thể chậm trễ hơn so với bình thường, nhưng cách chậm trễ và đặc biệt dịch vụ chăm sóc khách hàng quá tệ. Liên hệ phản hồi k ...   \n",
       "2                             Hàng chất lượng. Giá rẻ hơn cửa hàng. Nhưng bỉm có mùi \\n\\nHàng chất lượng. Giá rẻ hơn cửa hàng. Nhưng bỉm có mùi \\n\\nHàng chất lượng. Giá rẻ hơn cửa hàng. Nhưng bỉm có mùi   \n",
       "3  Chất lượng bỉm thì ok mà bên giao hàng và bên hỗ trợ từ số hotline quá chậm chễ. Mình đặt 2 bịch cho 2 đứa, 1 size XXL, 1 size L. Đến ngày hẹn giao hàng chờ cả ngày ko thấy. Đến tối muộn có nhân v...   \n",
       "4                    hàng giả mọi người ơi đừng mua . vì cái tã này mỏng hơn cái tã mình mua trực tiếp của bobby luôn.  mọi người cẩn thận nhé . 419k không phải ít tiền vì vậy đừng để mua nhầm như mình.   \n",
       "\n",
       "   rate  \n",
       "0     1  \n",
       "1     1  \n",
       "2     0  \n",
       "3     1  \n",
       "4     1  "
      ]
     },
     "execution_count": 3,
     "metadata": {},
     "output_type": "execute_result"
    }
   ],
   "source": [
    "df = pd.read_json('./data/binaryComments(2).json')\n",
    "df.head()"
   ]
  },
  {
   "cell_type": "markdown",
   "metadata": {},
   "source": [
    "# Bỏ cột tên"
   ]
  },
  {
   "cell_type": "code",
   "execution_count": 4,
   "metadata": {},
   "outputs": [],
   "source": [
    "df.drop(columns=['name'], axis=1, inplace=True)"
   ]
  },
  {
   "cell_type": "markdown",
   "metadata": {},
   "source": [
    "# Kiểm tra null"
   ]
  },
  {
   "cell_type": "code",
   "execution_count": 5,
   "metadata": {},
   "outputs": [
    {
     "name": "stdout",
     "output_type": "stream",
     "text": [
      "<class 'pandas.core.frame.DataFrame'>\n",
      "Int64Index: 1967495 entries, 0 to 4667463\n",
      "Data columns (total 2 columns):\n",
      " #   Column   Dtype \n",
      "---  ------   ----- \n",
      " 0   content  object\n",
      " 1   rate     int64 \n",
      "dtypes: int64(1), object(1)\n",
      "memory usage: 45.0+ MB\n"
     ]
    }
   ],
   "source": [
    "df.info()"
   ]
  },
  {
   "cell_type": "code",
   "execution_count": 6,
   "metadata": {},
   "outputs": [
    {
     "data": {
      "text/html": [
       "<div>\n",
       "<style scoped>\n",
       "    .dataframe tbody tr th:only-of-type {\n",
       "        vertical-align: middle;\n",
       "    }\n",
       "\n",
       "    .dataframe tbody tr th {\n",
       "        vertical-align: top;\n",
       "    }\n",
       "\n",
       "    .dataframe thead th {\n",
       "        text-align: right;\n",
       "    }\n",
       "</style>\n",
       "<table border=\"1\" class=\"dataframe\">\n",
       "  <thead>\n",
       "    <tr style=\"text-align: right;\">\n",
       "      <th></th>\n",
       "      <th>content</th>\n",
       "      <th>rate</th>\n",
       "    </tr>\n",
       "  </thead>\n",
       "  <tbody>\n",
       "    <tr>\n",
       "      <th>0</th>\n",
       "      <td>mua bỉm đợt sale 1tr600k cho 4 bịch bỉm, thì bị chia thành 2 đơn do hết hàng. đợi ship dài cả cổ. nhưng cái chính là lúc thêm vào giỏ hàng thấy được tặng xe bập bênh, nhưng 30 giây sau khi thanh t...</td>\n",
       "      <td>1</td>\n",
       "    </tr>\n",
       "    <tr>\n",
       "      <th>1</th>\n",
       "      <td>Quá tệ.\\n1/ Về giao hàng vs cskh. Mình đồng ý mùa dịch nên giao hàng có thể chậm trễ hơn so với bình thường, nhưng cách chậm trễ và đặc biệt dịch vụ chăm sóc khách hàng quá tệ. Liên hệ phản hồi k ...</td>\n",
       "      <td>1</td>\n",
       "    </tr>\n",
       "    <tr>\n",
       "      <th>2</th>\n",
       "      <td>Hàng chất lượng. Giá rẻ hơn cửa hàng. Nhưng bỉm có mùi \\n\\nHàng chất lượng. Giá rẻ hơn cửa hàng. Nhưng bỉm có mùi \\n\\nHàng chất lượng. Giá rẻ hơn cửa hàng. Nhưng bỉm có mùi</td>\n",
       "      <td>0</td>\n",
       "    </tr>\n",
       "    <tr>\n",
       "      <th>3</th>\n",
       "      <td>Chất lượng bỉm thì ok mà bên giao hàng và bên hỗ trợ từ số hotline quá chậm chễ. Mình đặt 2 bịch cho 2 đứa, 1 size XXL, 1 size L. Đến ngày hẹn giao hàng chờ cả ngày ko thấy. Đến tối muộn có nhân v...</td>\n",
       "      <td>1</td>\n",
       "    </tr>\n",
       "    <tr>\n",
       "      <th>4</th>\n",
       "      <td>hàng giả mọi người ơi đừng mua . vì cái tã này mỏng hơn cái tã mình mua trực tiếp của bobby luôn.  mọi người cẩn thận nhé . 419k không phải ít tiền vì vậy đừng để mua nhầm như mình.</td>\n",
       "      <td>1</td>\n",
       "    </tr>\n",
       "  </tbody>\n",
       "</table>\n",
       "</div>"
      ],
      "text/plain": [
       "                                                                                                                                                                                                   content  \\\n",
       "0  mua bỉm đợt sale 1tr600k cho 4 bịch bỉm, thì bị chia thành 2 đơn do hết hàng. đợi ship dài cả cổ. nhưng cái chính là lúc thêm vào giỏ hàng thấy được tặng xe bập bênh, nhưng 30 giây sau khi thanh t...   \n",
       "1  Quá tệ.\\n1/ Về giao hàng vs cskh. Mình đồng ý mùa dịch nên giao hàng có thể chậm trễ hơn so với bình thường, nhưng cách chậm trễ và đặc biệt dịch vụ chăm sóc khách hàng quá tệ. Liên hệ phản hồi k ...   \n",
       "2                             Hàng chất lượng. Giá rẻ hơn cửa hàng. Nhưng bỉm có mùi \\n\\nHàng chất lượng. Giá rẻ hơn cửa hàng. Nhưng bỉm có mùi \\n\\nHàng chất lượng. Giá rẻ hơn cửa hàng. Nhưng bỉm có mùi   \n",
       "3  Chất lượng bỉm thì ok mà bên giao hàng và bên hỗ trợ từ số hotline quá chậm chễ. Mình đặt 2 bịch cho 2 đứa, 1 size XXL, 1 size L. Đến ngày hẹn giao hàng chờ cả ngày ko thấy. Đến tối muộn có nhân v...   \n",
       "4                    hàng giả mọi người ơi đừng mua . vì cái tã này mỏng hơn cái tã mình mua trực tiếp của bobby luôn.  mọi người cẩn thận nhé . 419k không phải ít tiền vì vậy đừng để mua nhầm như mình.   \n",
       "\n",
       "   rate  \n",
       "0     1  \n",
       "1     1  \n",
       "2     0  \n",
       "3     1  \n",
       "4     1  "
      ]
     },
     "execution_count": 6,
     "metadata": {},
     "output_type": "execute_result"
    }
   ],
   "source": [
    "df.head()"
   ]
  },
  {
   "cell_type": "markdown",
   "metadata": {},
   "source": [
    "# Loại bỏ ký tự đặc biệt"
   ]
  },
  {
   "cell_type": "code",
   "execution_count": 8,
   "metadata": {},
   "outputs": [],
   "source": [
    "# Hàm chuẩn hoá câu\n",
    "def standardize_data(row):\n",
    "    # Xóa dấu chấm, phẩy, hỏi ở cuối câu\n",
    "    row = re.sub(r\"[\\.,\\?]+$-\", \"\", row)\n",
    "    row = re.sub('[\\n\\/]', '', row)\n",
    "    # Xóa tất cả dấu chấm, phẩy, chấm phẩy, chấm thang, ... trong câu\n",
    "    row = row.replace(\",\", \"\").replace(\".\", \"\") \\\n",
    "        .replace(\";\", \"\").replace(\"“\", \"\") \\\n",
    "        .replace(\":\", \"\").replace(\"”\", \"\") \\\n",
    "        .replace('\"', \"\").replace(\"'\", \"\") \\\n",
    "        .replace(\"!\", \"\").replace(\"?\", \"\") \\\n",
    "        .replace(\"-\", \"\").replace(\"?\", \"\") \\\n",
    "        .replace('*\\r?\\n*', '')\n",
    "\n",
    "    emoji_pattern = re.compile(\"[\"\n",
    "                               u\"\\U0001F600-\\U0001F64F\"  # emoticons\n",
    "                               u\"\\U0001F300-\\U0001F5FF\"  # symbols & pictographs\n",
    "                               u\"\\U0001F680-\\U0001F6FF\"  # transport & map symbols\n",
    "                               u\"\\U0001F1E0-\\U0001F1FF\"  # flags (iOS)\n",
    "                               \"]+\", flags=re.UNICODE)\n",
    "    row = emoji_pattern.sub(r'', row)\n",
    "    row = row.strip().lower()\n",
    "    return row\n"
   ]
  },
  {
   "cell_type": "code",
   "execution_count": 9,
   "metadata": {},
   "outputs": [],
   "source": [
    "df['content'] = df['content'].apply(\n",
    "    lambda x: x.replace(str(x), standardize_data(x)))\n"
   ]
  },
  {
   "cell_type": "markdown",
   "metadata": {},
   "source": [
    "# Thay thế ký tự viết tắt"
   ]
  },
  {
   "cell_type": "code",
   "execution_count": 10,
   "metadata": {},
   "outputs": [],
   "source": [
    "path_file_acr = \"./TuDienVietTat/acronym_vi.txt\"\n",
    "acronyms_list = []\n",
    "with open(path_file_acr, 'r', encoding=\"utf8\") as f:\n",
    "    for line in f.readlines():\n",
    "        line = re.sub('[\\n]', '', line)\n",
    "        acronyms_list.append(line.split('\\t'))\n"
   ]
  },
  {
   "cell_type": "code",
   "execution_count": 11,
   "metadata": {},
   "outputs": [],
   "source": [
    "def replace_acronyms(self, acronyms):\n",
    "    list_text = self.split(\" \")\n",
    "    for i in range(len(list_text)):\n",
    "        for j in range(len(acronyms)):\n",
    "            if(list_text[i] == acronyms[j][0]):\n",
    "                list_text[i] = acronyms[j][1]\n",
    "    self = \" \".join(list_text)\n",
    "    return self"
   ]
  },
  {
   "cell_type": "code",
   "execution_count": 12,
   "metadata": {},
   "outputs": [],
   "source": [
    "df['content'] = df['content'].apply(lambda x: x.replace(\n",
    "    str(x), replace_acronyms(x, acronyms=acronyms_list)))\n"
   ]
  },
  {
   "cell_type": "markdown",
   "metadata": {},
   "source": [
    "# Import Word_tokenize\n",
    "Tách từ phân biệt từ đơn từ ghép, để cung cấp cho mô hình phoBert"
   ]
  },
  {
   "cell_type": "code",
   "execution_count": 25,
   "metadata": {},
   "outputs": [],
   "source": [
    "from underthesea import word_tokenize\n",
    "\n",
    "\n",
    "def tokenizer_vn(row):\n",
    "    return word_tokenize(row, format=\"text\")\n"
   ]
  },
  {
   "cell_type": "code",
   "execution_count": 24,
   "metadata": {},
   "outputs": [
    {
     "name": "stdout",
     "output_type": "stream",
     "text": [
      "cực kỳ hài lòng xài mấy năm rồi không chán\n",
      "cực_kỳ hài_lòng xài mấy năm rồi không chán\n"
     ]
    }
   ],
   "source": [
    "text = new_df['content'].iloc[4123]\n",
    "text_token = tokenizer_vn(text)\n",
    "print(text)\n",
    "print(text_token)\n"
   ]
  },
  {
   "cell_type": "code",
   "execution_count": 26,
   "metadata": {},
   "outputs": [],
   "source": [
    "df['content'] = df['content'].apply(lambda x: x.replace(\n",
    "    x, tokenizer_vn(x)))"
   ]
  },
  {
   "cell_type": "code",
   "execution_count": 28,
   "metadata": {},
   "outputs": [],
   "source": [
    "len(df['content'])\n",
    "new_df = df[df['content'] != \"\"]\n",
    "new_df.reset_index(drop=True, inplace=True)"
   ]
  },
  {
   "cell_type": "code",
   "execution_count": 30,
   "metadata": {},
   "outputs": [
    {
     "data": {
      "text/plain": [
       "1958552"
      ]
     },
     "execution_count": 30,
     "metadata": {},
     "output_type": "execute_result"
    }
   ],
   "source": [
    "len(new_df)"
   ]
  },
  {
   "cell_type": "code",
   "execution_count": 29,
   "metadata": {},
   "outputs": [
    {
     "data": {
      "text/plain": [
       "'cực_kỳ hài_lòng xài mấy năm rồi không chán'"
      ]
     },
     "execution_count": 29,
     "metadata": {},
     "output_type": "execute_result"
    }
   ],
   "source": [
    "new_df['content'].iloc[4123]"
   ]
  },
  {
   "cell_type": "code",
   "execution_count": 31,
   "metadata": {},
   "outputs": [],
   "source": [
    "# Save file\n",
    "new_df.to_json(\"./data/non_stop_word(3).json\")"
   ]
  }
 ],
 "metadata": {
  "interpreter": {
   "hash": "ad2bdc8ecc057115af97d19610ffacc2b4e99fae6737bb82f5d7fb13d2f2c186"
  },
  "kernelspec": {
   "display_name": "Python 3.9.12 ('base')",
   "language": "python",
   "name": "python3"
  },
  "language_info": {
   "codemirror_mode": {
    "name": "ipython",
    "version": 3
   },
   "file_extension": ".py",
   "mimetype": "text/x-python",
   "name": "python",
   "nbconvert_exporter": "python",
   "pygments_lexer": "ipython3",
   "version": "3.9.12"
  },
  "orig_nbformat": 4
 },
 "nbformat": 4,
 "nbformat_minor": 2
}
